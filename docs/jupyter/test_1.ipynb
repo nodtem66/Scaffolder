{
    "cells": [
        {
            "cell_type": "markdown",
            "source": [
                "# TPMS with SDF and PyScaffolder\r\n",
                "Author: [Jirawat Iamsamang](https://github.com/nodtem66)  \r\n",
                "\r\n",
                "## Abstract\r\n",
                "SDF provides a class for discretizing and visualizing any implicit surfaces. The basic topologies (e.g. sphere, box) are already defined.\r\n",
                "This notebook shows how to utilize this library to generate gyroid surface.\r\n",
                "\r\n",
                "## Installation\r\n",
                "* Currently, SDF is not in PyPI. So the [github of SDF](https://github.com/fogleman/sdf) needs to clone into local computer. See [Installation](https://github.com/fogleman/sdf#installation)\r\n",
                "* By contrast, PyScaffolder was installed by `pip install PyScaffolder`\r\n",
                "\r\n",
                "## Gyroid\r\n",
                "The gyroid function is defined as shown in a following cell.  \r\n",
                "The wrapper `@sdf3` will provide gyroid function with 3D points (`p`)).\r\n",
                "Then these (x,y, z) points will multiply by `w` and calculate the iso-level of gyroid by vectorized numpy function. "
            ],
            "metadata": {}
        },
        {
            "cell_type": "code",
            "execution_count": 51,
            "source": [
                "%load_ext autoreload\r\n",
                "%autoreload 2\r\n",
                "\r\n",
                "import numpy as np\r\n",
                "import PyScaffolder\r\n",
                "from sdf import *\r\n",
                "\r\n",
                "@sdf3\r\n",
                "def gyroid(w = 3.14159, t=0):\r\n",
                "    def f(p):\r\n",
                "        q = w*p\r\n",
                "        x, y, z = (q[:, i] for i in range(3))\r\n",
                "        return np.cos(x)*np.sin(y) + np.cos(y)*np.sin(z) + np.cos(z)*np.sin(x) - t\r\n",
                "    return f"
            ],
            "outputs": [
                {
                    "output_type": "stream",
                    "name": "stdout",
                    "text": [
                        "The autoreload extension is already loaded. To reload it, use:\n",
                        "  %reload_ext autoreload\n"
                    ]
                }
            ],
            "metadata": {}
        },
        {
            "cell_type": "markdown",
            "source": [
                "## Generate with SKimage\r\n",
                "SDF used `marching_cubes` from `skimage.measure` with a `ThreadPool`, so it's super fast to construct the 3D mesh.\r\n",
                "Let's create a constructing function that intersect a gyroid and a unit box."
            ],
            "metadata": {}
        },
        {
            "cell_type": "code",
            "execution_count": 52,
            "source": [
                "f = box(1) & gyroid(w=12)"
            ],
            "outputs": [],
            "metadata": {}
        },
        {
            "cell_type": "code",
            "execution_count": 53,
            "source": [
                "# Generate with skimage.measure.marching_cubes\r\n",
                "points = f.generate(step=0.01, verbose=True)\r\n",
                "write_binary_stl('out_1.stl', points)"
            ],
            "outputs": [
                {
                    "output_type": "stream",
                    "name": "stdout",
                    "text": [
                        "min -0.565721, -0.565721, -0.565721\n",
                        "max 0.565722, 0.565722, 0.565722\n",
                        "step 0.01, 0.01, 0.01\n",
                        "1601613 samples in 64 batches with 16 workers\n",
                        "\n",
                        "7 skipped, 0 empty, 57 nonempty\n",
                        "233958 triangles in 0.659682 seconds\n"
                    ]
                }
            ],
            "metadata": {}
        },
        {
            "cell_type": "markdown",
            "source": [
                "## Generate with PyScaffolder\r\n",
                "\r\n",
                "However, this method occasionally results in incomplete mesh.  \r\n",
                "Then let's try `Pyscaffolder.marching_cubes` which implements `dual marching cubes` from [@dominikwodniok/dualmc](https://github.com/dominikwodniok/dualmc)."
            ],
            "metadata": {}
        },
        {
            "cell_type": "code",
            "execution_count": null,
            "source": [
                "# Generate with PyScaffolder.marching_cubes\r\n",
                "def marching_cubes(f, step=0.01, bounds=None, verbose=True, clean=True):\r\n",
                "    from sdf.mesh import _estimate_bounds, _cartesian_product\r\n",
                "    import time\r\n",
                "\r\n",
                "    if not bounds:\r\n",
                "        bounds = _estimate_bounds(f)\r\n",
                "    (x0, y0, z0), (x1, y1, z1) = bounds\r\n",
                "    \r\n",
                "    try:\r\n",
                "        dx, dy, dz = step\r\n",
                "    except TypeError:\r\n",
                "        dx = dy = dz = step\r\n",
                "    \r\n",
                "    if verbose:\r\n",
                "        print('min %g, %g, %g' % (x0, y0, z0))\r\n",
                "        print('max %g, %g, %g' % (x1, y1, z1))\r\n",
                "        print('step %g, %g, %g' % (dx, dy, dz))\r\n",
                "\r\n",
                "    X = np.arange(x0, x1, dx)\r\n",
                "    Y = np.arange(y0, y1, dy)\r\n",
                "    Z = np.arange(z0, z1, dz)\r\n",
                "\r\n",
                "    P = _cartesian_product(X, Y, Z)\r\n",
                "    try:\r\n",
                "        # Since the PyScaffolder marching_cubes aceept FREP: F(x,y,z) > 0\r\n",
                "        # Then the negative of implicit function is used\r\n",
                "        Fxyz = (-f(P))\r\n",
                "        # Reshape to Fortran array (column-based) due to implementation of dualmc starting from z axis to x\r\n",
                "        Fxyz = Fxyz.reshape((len(X), len(Y), len(Z))).reshape(-1, order='F')\r\n",
                "        start = time.time()\r\n",
                "        (v, f) = PyScaffolder.marching_cubes(Fxyz, grid_size=[len(X), len(Y), len(Z)], v_min=bounds[0], delta=step, clean=clean)\r\n",
                "        if verbose:\r\n",
                "            seconds = time.time() - start\r\n",
                "            print('\\n%d triangles in %g seconds' % (len(points) // 3, seconds))\r\n",
                "        # merge vertices and faces into points\r\n",
                "        return v[f].reshape((-1, 3))\r\n",
                "    except Exception as e:\r\n",
                "        print(e)\r\n",
                "        return np.array([])\r\n",
                "\r\n",
                "points = marching_cubes(f, step=0.01, verbose=True, clean=True)\r\n",
                "write_binary_stl('out_2.stl', points)"
            ],
            "outputs": [],
            "metadata": {}
        }
    ],
    "metadata": {
        "orig_nbformat": 4,
        "language_info": {
            "name": "python",
            "version": "3.9.6",
            "mimetype": "text/x-python",
            "codemirror_mode": {
                "name": "ipython",
                "version": 3
            },
            "pygments_lexer": "ipython3",
            "nbconvert_exporter": "python",
            "file_extension": ".py"
        },
        "kernelspec": {
            "name": "python3",
            "display_name": "Python 3.9.6 64-bit ('sdf': conda)"
        },
        "interpreter": {
            "hash": "338d088b7365852483cbb7f745c4a9fbf18ad887a6ae80fcf58992043df108c7"
        }
    },
    "nbformat": 4,
    "nbformat_minor": 2
}