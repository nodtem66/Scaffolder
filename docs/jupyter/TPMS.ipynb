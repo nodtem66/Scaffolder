{
  "cells": [
    {
      "cell_type": "markdown",
      "metadata": {
        "id": "C2P7XZxz0Wtd"
      },
      "source": [
        "# TPMS with SDF and PyScaffolder\n",
        "Author: [Jirawat Iamsamang](https://github.com/nodtem66)  \n",
        "\n",
        "## Abstract\n",
        "SDF provides a class for discretizing and visualizing any implicit surfaces. The basic topologies (e.g. sphere, box) are already defined.\n",
        "This notebook shows how to utilize this library to generate gyroid surface.\n",
        "\n",
        "## Installation\n",
        "* Currently, SDF is not in PyPI. So the [github of SDF](https://github.com/fogleman/sdf) needs to clone into local computer. See [Installation](https://github.com/fogleman/sdf#installation)\n",
        "* PyScaffolder can be installed by `pip install PyScaffolder`\n"
      ]
    },
    {
      "cell_type": "code",
      "source": [
        "!git clone https://github.com/fogleman/sdf\n",
        "!pip install PyScaffolder"
      ],
      "metadata": {
        "id": "k1QuoXni0wXJ",
        "outputId": "d8ced732-dea3-42b9-dddb-b5b25d49716a",
        "colab": {
          "base_uri": "https://localhost:8080/"
        }
      },
      "execution_count": null,
      "outputs": [
        {
          "output_type": "stream",
          "name": "stdout",
          "text": [
            "Cloning into 'sdf'...\n",
            "remote: Enumerating objects: 861, done.\u001b[K\n",
            "remote: Counting objects: 100% (848/848), done.\u001b[K\n",
            "remote: Compressing objects: 100% (409/409), done.\u001b[K\n",
            "remote: Total 861 (delta 448), reused 818 (delta 433), pack-reused 13\u001b[K\n",
            "Receiving objects: 100% (861/861), 8.26 MiB | 8.67 MiB/s, done.\n",
            "Resolving deltas: 100% (448/448), done.\n",
            "Looking in indexes: https://pypi.org/simple, https://us-python.pkg.dev/colab-wheels/public/simple/\n",
            "Collecting PyScaffolder\n",
            "  Downloading PyScaffolder-1.5.2-cp39-cp39-manylinux_2_12_x86_64.manylinux2010_x86_64.whl (786 kB)\n",
            "\u001b[2K     \u001b[90m━━━━━━━━━━━━━━━━━━━━━━━━━━━━━━━━━━━━━━\u001b[0m \u001b[32m786.4/786.4 kB\u001b[0m \u001b[31m11.5 MB/s\u001b[0m eta \u001b[36m0:00:00\u001b[0m\n",
            "\u001b[?25hInstalling collected packages: PyScaffolder\n",
            "Successfully installed PyScaffolder-1.5.2\n"
          ]
        }
      ]
    },
    {
      "cell_type": "markdown",
      "source": [
        "## The implicit function of TPMS\n",
        "\n",
        "Name\t| F(x,y,z) \n",
        "--- | --- \n",
        "Schwarz-P\t| cos⁡(x)+cos⁡(y)+cos⁡(z)\n",
        "Double Schwarz-P |\tcos⁡(x)  cos⁡(y)+  cos⁡(y)  cos⁡(z)+ cos⁡(x)  cos⁡(z)+  0.35 [cos⁡(2x)+cos⁡(2y)+cos⁡(2z)]\t\n",
        "Diamond |\tsin⁡(x)  sin⁡(y)  sin⁡(z)+sin⁡(x)  cos⁡(y)  cos⁡(z) + cos⁡(x)  sin⁡(y)  cos⁡(z)+  cos⁡(x)  cos⁡(y)  sin⁡(z)\t\n",
        "Double Diamond | sin⁡(2x)  sin⁡(2y)+ sin⁡(2y)  sin⁡(2z) + sin⁡(2z)  sin⁡(2x)+  cos⁡(2x)  cos⁡(2y)  cos⁡(2z)\t\n",
        "Gyroid|\tcos⁡(x)  sin⁡(y)+cos⁡(y)  sin⁡(x)+cos⁡(z)  sin⁡(x)\t\n",
        "Double Gyroid |\t2.75 [ sin(2x)  sin⁡(z)  cos⁡(y)+sin⁡(2y)  sin⁡(x)  cos⁡(z) + sin⁡(2z)  sin⁡(y) cos⁡(x) ] - [ cos⁡(2x)cos⁡(2y)+ cos⁡(2y)  cos⁡(2z)+cos⁡(2z) cos⁡(2x)  ]\t\n",
        "Lidinoid |\tsin⁡(2x)  cos⁡(y)  sin⁡(z)+sin⁡(2y)  cos⁡(z)  sin⁡(x)+ sin⁡(2z)  cos⁡(x)  sin⁡(y)+ cos⁡(2x)  cos⁡(2y)+ cos⁡(2y)  cos⁡(2z)+cos⁡(2z)  cos⁡(2x)\t\n",
        "Neovius |\t3 [cos⁡(x)+cos⁡(y)+cos⁡(z) ]+4 [cos⁡(x)  cos⁡(y)  cos⁡(z) ]\t\n",
        "Schoen IWP |\tcos⁡(x)  cos⁡(y)+cos⁡(y)  cos⁡(z)+cos⁡(z)  cos⁡(x)\t\n",
        "Tubular G AB |\t20 [cos⁡(x)  sin⁡(y) + cos⁡(y)  sin⁡(z)+cos⁡(z)  sin⁡(x)  ] -0.5 [cos⁡(2x)  cos⁡(2y)+cos⁡(2y)  cos⁡(2z)+cos⁡(2z)  cos⁡(2x) ] -4 \t\n",
        "Tubular G C\t| -10 [cos⁡(x)  sin⁡(y)+cos⁡(y)  sin⁡(z)+cos⁡(z)  sin⁡(x) ] +2[cos⁡(2x)  cos⁡(2y)+cos⁡(2y)  cos⁡(2z)+cos⁡(2z)  cos⁡(2x)  ] +12 \t\n",
        "BCC |\tcos⁡(x)+cos⁡(y)+cos⁡(z)-2 [ cos⁡(x/2)cos⁡(y/2) + cos⁡(y/2)cos⁡(z/2)+cos⁡(z/2)cos⁡(x/2) ]\t\n",
        "\n",
        "\n",
        "## Gyroid\n",
        "The gyroid function is defined as shown in a following cell.  \n",
        "The wrapper `@sdf3` will provide gyroid function with 3D points (`p`)).\n",
        "Then these (x,y, z) points will multiply by `w` and calculate the iso-level of gyroid by vectorized numpy function. \n",
        "\n"
      ],
      "metadata": {
        "id": "av6a2Jwm69VM"
      }
    },
    {
      "cell_type": "code",
      "execution_count": null,
      "metadata": {
        "id": "pm_CwCcV0Wte",
        "outputId": "f7626e5a-1a15-4f6b-bc67-ea44c344ace0",
        "colab": {
          "base_uri": "https://localhost:8080/"
        }
      },
      "outputs": [
        {
          "output_type": "stream",
          "name": "stdout",
          "text": [
            "/content/sdf\n",
            "The autoreload extension is already loaded. To reload it, use:\n",
            "  %reload_ext autoreload\n"
          ]
        }
      ],
      "source": [
        "%cd /content/sdf\n",
        "%load_ext autoreload\n",
        "%autoreload 2\n",
        "# Add parent directory into system path\n",
        "import sys, os\n",
        "sys.path.insert(1, os.path.abspath(os.path.normpath('..')))\n",
        "\n",
        "import numpy as np\n",
        "from sdf import *\n",
        "\n",
        "@sdf3\n",
        "def gyroid(w = 3.14159, t=0):\n",
        "    def f(p):\n",
        "        q = w*p\n",
        "        x, y, z = (q[:, i] for i in range(3))\n",
        "        return np.cos(x)*np.sin(y) + np.cos(y)*np.sin(z) + np.cos(z)*np.sin(x) - t\n",
        "    return f"
      ]
    },
    {
      "cell_type": "markdown",
      "metadata": {
        "id": "u5ZVgYpP0Wtg"
      },
      "source": [
        "## Generate with SKimage\n",
        "SDF used `marching_cubes` from `skimage.measure` with a `ThreadPool`, so it's super fast to construct the 3D mesh.\n",
        "Let's create a constructing function that intersect a gyroid and a unit box."
      ]
    },
    {
      "cell_type": "code",
      "execution_count": null,
      "metadata": {
        "id": "F9BpP6A00Wtg"
      },
      "outputs": [],
      "source": [
        "f = box(1) & gyroid(w=12)"
      ]
    },
    {
      "cell_type": "code",
      "execution_count": null,
      "metadata": {
        "id": "XKPr5MOw0Wtg",
        "outputId": "97259e25-657a-42b7-a5ce-0f35c911b19a",
        "colab": {
          "base_uri": "https://localhost:8080/"
        }
      },
      "outputs": [
        {
          "output_type": "stream",
          "name": "stdout",
          "text": [
            "min -0.543491, -0.543491, -0.543491\n",
            "max 0.543491, 0.543491, 0.543491\n",
            "step 0.01, 0.01, 0.01\n",
            "1404928 samples in 64 batches with 2 workers\n",
            "\n",
            "6 skipped, 0 empty, 58 nonempty\n",
            "239438 triangles in 1.04591 seconds\n"
          ]
        }
      ],
      "source": [
        "# Generate with skimage.measure.marching_cubes\n",
        "points = f.generate(step=0.01, verbose=True)\n",
        "write_binary_stl('out_1.stl', points)"
      ]
    },
    {
      "cell_type": "markdown",
      "metadata": {
        "id": "27qwHTUx0Wtg"
      },
      "source": [
        "## Generate with PyScaffolder\n",
        "\n",
        "However, this method occasionally results in incomplete mesh.  \n",
        "Then let's try `Pyscaffolder.marching_cubes` which implements `dual marching cubes` from [@dominikwodniok/dualmc](https://github.com/dominikwodniok/dualmc)."
      ]
    },
    {
      "cell_type": "code",
      "execution_count": null,
      "metadata": {
        "id": "jGZ_RNvG0Wtg",
        "outputId": "d180c95a-edfb-41e2-9a44-3f9c671b1a46",
        "colab": {
          "base_uri": "https://localhost:8080/"
        }
      },
      "outputs": [
        {
          "output_type": "stream",
          "name": "stdout",
          "text": [
            "min -0.543491, -0.543491, -0.543491\n",
            "max 0.543491, 0.543491, 0.543491\n",
            "step 0.01, 0.01, 0.01\n",
            "\n",
            "82748 triangles in 1.07692 seconds\n"
          ]
        }
      ],
      "source": [
        "# Generate with PyScaffolder.marching_cubes\n",
        "import PyScaffolder\n",
        "def marching_cubes(f, step=0.01, bounds=None, verbose=True, clean=True):\n",
        "    from sdf.mesh import _estimate_bounds, _cartesian_product\n",
        "    import time\n",
        "\n",
        "    if not bounds:\n",
        "        bounds = _estimate_bounds(f)\n",
        "    (x0, y0, z0), (x1, y1, z1) = bounds\n",
        "    \n",
        "    try:\n",
        "        dx, dy, dz = step\n",
        "    except TypeError:\n",
        "        dx = dy = dz = step\n",
        "    \n",
        "    if verbose:\n",
        "        print('min %g, %g, %g' % (x0, y0, z0))\n",
        "        print('max %g, %g, %g' % (x1, y1, z1))\n",
        "        print('step %g, %g, %g' % (dx, dy, dz))\n",
        "\n",
        "    X = np.arange(x0, x1, dx)\n",
        "    Y = np.arange(y0, y1, dy)\n",
        "    Z = np.arange(z0, z1, dz)\n",
        "\n",
        "    P = _cartesian_product(X, Y, Z)\n",
        "    try:\n",
        "        # Since the PyScaffolder marching_cubes aceept FREP: F(x,y,z) > 0\n",
        "        # Then the negative of implicit function is used\n",
        "        Fxyz = (-f(P))\n",
        "        # Reshape to Fortran array (column-based) due to implementation of dualmc starting from z axis to x\n",
        "        Fxyz = Fxyz.reshape((len(X), len(Y), len(Z))).reshape(-1, order='F')\n",
        "        start = time.time()\n",
        "        (v, f) = PyScaffolder.marching_cubes(Fxyz, grid_size=[len(X), len(Y), len(Z)], v_min=bounds[0], delta=step, clean=clean)\n",
        "        if verbose:\n",
        "            seconds = time.time() - start\n",
        "            print('\\n%d triangles in %g seconds' % (len(f) // 3, seconds))\n",
        "        # merge vertices and faces into points\n",
        "        return v[f].reshape((-1, 3))\n",
        "    except Exception as e:\n",
        "        print(e)\n",
        "        return np.array([])\n",
        "\n",
        "points = marching_cubes(f, step=0.01, verbose=True, clean=True)\n",
        "write_binary_stl('out_2.stl', points)"
      ]
    },
    {
      "cell_type": "markdown",
      "source": [
        "## Generate the other TPMS\n",
        "\n",
        "The following codes will generate SchwarzP and BCC structure. The output files can be found at `/content/sdf/` "
      ],
      "metadata": {
        "id": "nS1Cct6M9Mzz"
      }
    },
    {
      "cell_type": "code",
      "source": [
        "@sdf3\n",
        "def schwarz_p(w = 3.14159, t=0):\n",
        "    def f(p):\n",
        "        q = w*p\n",
        "        x, y, z = (q[:, i] for i in range(3))\n",
        "        return np.cos(x) + np.cos(y) + np.cos(z)\n",
        "    return f\n",
        "\n",
        "@sdf3\n",
        "def bcc(w = 3.14159, t=0):\n",
        "    def f(p):\n",
        "        q = w*p\n",
        "        x, y, z = (q[:, i] for i in range(3))\n",
        "        return np.cos(x) + np.cos(y) + np.cos(z) -2*(np.cos(x/2)*np.cos(y/2) + np.cos(y/2)*np.cos(z/2) + np.cos(z/2)*np.cos(x/2))\n",
        "    return f"
      ],
      "metadata": {
        "id": "9LFfSAZR9Uor"
      },
      "execution_count": null,
      "outputs": []
    },
    {
      "cell_type": "code",
      "source": [
        "f2 = box(1) & schwarz_p(w=12)\n",
        "points = marching_cubes(f2, step=0.01, verbose=True, clean=True)\n",
        "write_binary_stl('schwarz_p.stl', points)"
      ],
      "metadata": {
        "colab": {
          "base_uri": "https://localhost:8080/"
        },
        "id": "TzAD5XK59ZRC",
        "outputId": "8919bf3e-7b86-4f24-9592-bb1b05082029"
      },
      "execution_count": null,
      "outputs": [
        {
          "output_type": "stream",
          "name": "stdout",
          "text": [
            "min -0.543491, -0.543491, -0.543491\n",
            "max 0.543491, 0.543491, 0.543491\n",
            "step 0.01, 0.01, 0.01\n",
            "\n",
            "59388 triangles in 0.45409 seconds\n"
          ]
        }
      ]
    },
    {
      "cell_type": "code",
      "source": [
        "f3 = box(1) & bcc(w=12)\n",
        "points = marching_cubes(f3, step=0.01, verbose=True, clean=True)\n",
        "write_binary_stl('bcc.stl', points)"
      ],
      "metadata": {
        "colab": {
          "base_uri": "https://localhost:8080/"
        },
        "id": "IZc583ld9xRw",
        "outputId": "6fd246df-d342-492f-dfcd-41adb8154adb"
      },
      "execution_count": null,
      "outputs": [
        {
          "output_type": "stream",
          "name": "stdout",
          "text": [
            "min -0.543491, -0.543491, -0.543491\n",
            "max 0.543491, 0.543491, 0.543491\n",
            "step 0.01, 0.01, 0.01\n",
            "\n",
            "49112 triangles in 0.377038 seconds\n"
          ]
        }
      ]
    }
  ],
  "metadata": {
    "interpreter": {
      "hash": "338d088b7365852483cbb7f745c4a9fbf18ad887a6ae80fcf58992043df108c7"
    },
    "kernelspec": {
      "display_name": "Python 3.9.7 64-bit ('sdf': conda)",
      "name": "python3"
    },
    "language_info": {
      "codemirror_mode": {
        "name": "ipython",
        "version": 3
      },
      "file_extension": ".py",
      "mimetype": "text/x-python",
      "name": "python",
      "nbconvert_exporter": "python",
      "pygments_lexer": "ipython3",
      "version": "3.9.10"
    },
    "orig_nbformat": 4,
    "colab": {
      "provenance": []
    }
  },
  "nbformat": 4,
  "nbformat_minor": 0
}