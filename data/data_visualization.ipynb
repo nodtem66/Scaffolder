{
  "nbformat": 4,
  "nbformat_minor": 0,
  "metadata": {
    "colab": {
      "name": "Data visualization.ipynb",
      "provenance": [],
      "include_colab_link": true
    },
    "kernelspec": {
      "name": "python3",
      "display_name": "Python 3"
    },
    "widgets": {
      "application/vnd.jupyter.widget-state+json": {
        "25c1cf7d2fa94f958dfd065db7079a51": {
          "model_module": "@jupyter-widgets/controls",
          "model_name": "VBoxModel",
          "state": {
            "_view_name": "VBoxView",
            "_dom_classes": [
              "widget-interact"
            ],
            "_model_name": "VBoxModel",
            "_view_module": "@jupyter-widgets/controls",
            "_model_module_version": "1.5.0",
            "_view_count": null,
            "_view_module_version": "1.5.0",
            "box_style": "",
            "layout": "IPY_MODEL_39cbe54c734e4bd6b74ed1ac56ed3795",
            "_model_module": "@jupyter-widgets/controls",
            "children": [
              "IPY_MODEL_32127c0b115f403eaa2b67e3bcbfd727",
              "IPY_MODEL_b502cd672e9f4ab2b5e8d6c6dd9ec5d7"
            ]
          }
        },
        "39cbe54c734e4bd6b74ed1ac56ed3795": {
          "model_module": "@jupyter-widgets/base",
          "model_name": "LayoutModel",
          "state": {
            "_view_name": "LayoutView",
            "grid_template_rows": null,
            "right": null,
            "justify_content": null,
            "_view_module": "@jupyter-widgets/base",
            "overflow": null,
            "_model_module_version": "1.2.0",
            "_view_count": null,
            "flex_flow": null,
            "width": null,
            "min_width": null,
            "border": null,
            "align_items": null,
            "bottom": null,
            "_model_module": "@jupyter-widgets/base",
            "top": null,
            "grid_column": null,
            "overflow_y": null,
            "overflow_x": null,
            "grid_auto_flow": null,
            "grid_area": null,
            "grid_template_columns": null,
            "flex": null,
            "_model_name": "LayoutModel",
            "justify_items": null,
            "grid_row": null,
            "max_height": null,
            "align_content": null,
            "visibility": null,
            "align_self": null,
            "height": null,
            "min_height": null,
            "padding": null,
            "grid_auto_rows": null,
            "grid_gap": null,
            "max_width": null,
            "order": null,
            "_view_module_version": "1.2.0",
            "grid_template_areas": null,
            "object_position": null,
            "object_fit": null,
            "grid_auto_columns": null,
            "margin": null,
            "display": null,
            "left": null
          }
        },
        "32127c0b115f403eaa2b67e3bcbfd727": {
          "model_module": "@jupyter-widgets/controls",
          "model_name": "DropdownModel",
          "state": {
            "_options_labels": [
              "bcc",
              "double-d",
              "double-gyroid",
              "double-p",
              "gyroid",
              "lidinoid",
              "neovius",
              "schoen_iwp",
              "schwarzd",
              "schwarzp",
              "tubular_g_ab",
              "tubular_g_c"
            ],
            "_view_name": "DropdownView",
            "style": "IPY_MODEL_cf961cef150c4463b8918d7c3f8a1fb2",
            "_dom_classes": [],
            "description": "surface",
            "_model_name": "DropdownModel",
            "index": 8,
            "_view_module": "@jupyter-widgets/controls",
            "_model_module_version": "1.5.0",
            "_view_count": null,
            "disabled": false,
            "_view_module_version": "1.5.0",
            "description_tooltip": null,
            "_model_module": "@jupyter-widgets/controls",
            "layout": "IPY_MODEL_015ae0cb5e0542ac9a81deb906e0dd42"
          }
        },
        "b502cd672e9f4ab2b5e8d6c6dd9ec5d7": {
          "model_module": "@jupyter-widgets/output",
          "model_name": "OutputModel",
          "state": {
            "_view_name": "OutputView",
            "msg_id": "",
            "_dom_classes": [],
            "_model_name": "OutputModel",
            "outputs": [
              {
                "output_type": "display_data",
                "metadata": {
                  "tags": []
                },
                "text/html": "<html>\n<head><meta charset=\"utf-8\" /></head>\n<body>\n    <div>\n            <script src=\"https://cdnjs.cloudflare.com/ajax/libs/mathjax/2.7.5/MathJax.js?config=TeX-AMS-MML_SVG\"></script><script type=\"text/javascript\">if (window.MathJax) {MathJax.Hub.Config({SVG: {font: \"STIX-Web\"}});}</script>\n                <script type=\"text/javascript\">window.PlotlyConfig = {MathJaxConfig: 'local'};</script>\n        <script src=\"https://cdn.plot.ly/plotly-latest.min.js\"></script>    \n            <div id=\"5054b7f4-5427-441e-a231-44bb712fe2f4\" class=\"plotly-graph-div\" style=\"height:800px; width:800px;\"></div>\n            <script type=\"text/javascript\">\n                \n                    window.PLOTLYENV=window.PLOTLYENV || {};\n                    \n                if (document.getElementById(\"5054b7f4-5427-441e-a231-44bb712fe2f4\")) {\n                    Plotly.newPlot(\n                        '5054b7f4-5427-441e-a231-44bb712fe2f4',\n                        [{\"scene\": \"scene\", \"showscale\": false, \"type\": \"surface\", \"x\": [0.314159, 0.31416, 0.62832, 1.25664, 3.14159, 6.28319, 9.42478, 12.5664, 15.708], \"y\": [0.0, 0.1, 0.5, 0.6, 0.7, 0.2, 0.3, 0.4, 0.8, 0.9], \"z\": [[4.999969959259033, 4.999969959259033, 2.515660047531128, 0.7793869972229004, 0.4940190017223358, 0.2633970081806183, 0.19156299531459808, 0.13829100131988525, 0.09642670303583145], [5.15162992477417, 5.15162992477417, 2.604949951171875, 1.1853200197219849, 0.24125699698925018, 0.10744199901819229, 0.07188630104064941, 0.051430799067020416, 0.15272000432014465], [5.419229984283447, 5.419229984283447, 2.5657598972320557, 1.1979299783706665, 0.4536679983139038, 0.24167799949645996, 0.17454999685287476, 0.18192100524902344, 0.2692030072212219], [5.730879783630371, 5.730879783630371, 2.762619972229004, 1.3089499473571777, 0.5053160190582275, 0.28138500452041626, 0.22779299318790436, 0.2073570042848587, 0.2706049978733063], [6.112569808959961, 6.112569808959961, 2.9860100746154785, 1.441249966621399, 0.5715280175209045, 0.3155829906463623, 0.2833069860935211, 0.21757300198078156, 0.27190399169921875], [5.259099960327148, 5.259099960327148, 2.69950008392334, 1.042930006980896, 0.3209820091724396, 0.15663599967956543, 0.08992259949445724, 0.08847430348396301, 0.015244799666106701], [5.413290023803711, 5.413290023803711, 2.613679885864258, 1.004699945449829, 0.3781130015850067, 0.19005799293518066, 0.14053499698638916, 0.12039399892091751, 0.03181539848446846], [5.148220062255859, 5.148220062255859, 2.388780117034912, 1.0438599586486816, 0.40580999851226807, 0.2207150012254715, 0.15225200355052948, 0.1485390067100525, 0.044669799506664276], [6.835169792175293, 6.835169792175293, 3.284719944000244, 1.3614200353622437, 0.6607599854469299, 0.3647710084915161, 0.3367759883403778, 0.26351699233055115, 0.2727859914302826], [7.4159698486328125, 7.4159698486328125, 3.617609977722168, 1.7973599433898926, 0.7207739949226379, 0.4034450054168701, 0.3483720123767853, 0.3483720123767853, 0.3483720123767853]]}, {\"scene\": \"scene2\", \"showscale\": false, \"type\": \"surface\", \"x\": [0.314159, 0.31416, 0.62832, 1.25664, 3.14159, 6.28319, 9.42478, 12.5664, 15.708], \"y\": [0.0, 0.1, 0.5, 0.6, 0.7, 0.2, 0.3, 0.4, 0.8, 0.9], \"z\": [[5.734129905700684, 5.734129905700684, 15.21720027923584, 0.7793869972229004, 1.9468200206756592, 0.973065972328186, 0.6699110269546509, 0.4940040111541748, 0.3796429932117462], [6.317659854888916, 6.317659854888916, 10.407600402832031, 4.822470188140869, 0.3436029851436615, 0.18228699266910553, 0.1269579976797104, 0.11604399979114532, 0.4358159899711609], [12.14009952545166, 12.14009952545166, 6.135570049285889, 1.9094300270080566, 0.7280610203742981, 0.38427799940109253, 0.2939319908618927, 0.2696250081062317, 0.2750459909439087], [12.656800270080566, 12.656800270080566, 6.360340118408203, 2.0909900665283203, 0.8038020133972168, 0.4271079897880554, 0.323606014251709, 0.3620010018348694, 0.27532699704170227], [13.160300254821777, 13.160300254821777, 6.6008501052856445, 2.2753899097442627, 0.8820779919624329, 0.4660550057888031, 0.3952139914035797, 0.40066900849342346, 0.2754400074481964], [6.981379985809326, 6.981379985809326, 10.033599853515625, 1.042930006980896, 0.4617469906806946, 0.24531500041484833, 0.17252099514007568, 0.15617600083351135, 0.1603499948978424], [7.951039791107178, 7.951039791107178, 6.089389801025391, 2.8357200622558594, 0.5641160011291504, 0.2942909896373749, 0.22395199537277222, 0.19980500638484955, 0.17399899661540985], [11.698699951171875, 11.698699951171875, 5.916230201721191, 1.157520055770874, 0.6568560004234314, 0.3450919985771179, 0.2550069987773895, 0.232122004032135, 0.18670199811458588], [13.754500389099121, 13.754500389099121, 6.865640163421631, 1.3614200353622437, 0.9548429846763611, 0.5136989951133728, 0.41278499364852905, 0.4623059928417206, 0.2756499946117401], [14.389900207519531, 14.389900207519531, 7.180990219116211, 2.751420021057129, 1.04489004611969, 0.6016139984130859, 0.43597400188446045, 0.43597400188446045, 0.43597400188446045]]}, {\"scene\": \"scene3\", \"showscale\": false, \"type\": \"surface\", \"x\": [0.314159, 0.31416, 0.62832, 1.25664, 3.14159, 6.28319, 9.42478, 12.5664, 15.708], \"y\": [0.0, 0.1, 0.5, 0.6, 0.7, 0.2, 0.3, 0.4, 0.8, 0.9], \"z\": [[0.50655597448349, 0.50655597448349, 0.5062609910964966, 0.31640300154685974, 0.5082539916038513, 0.5108100175857544, 0.5125849843025208, 0.5072349905967712, 0.48473501205444336], [0.547294020652771, 0.547294020652771, 0.5475239753723145, 0.5481160283088684, 0.5513259768486023, 0.5609440207481384, 0.5728710293769836, 0.5962880253791809, 0.7278850078582764], [0.7107669711112976, 0.7107669711112976, 0.7115979790687561, 0.7132319808006287, 0.7235509753227234, 0.7603809833526611, 0.8269699811935425, 0.9061470031738281, 0.9911209344863892], [0.7525249719619751, 0.7525249719619751, 0.7530829906463623, 0.7550119757652283, 0.7677119970321655, 0.8125839829444885, 0.8828709721565247, 0.9536309838294983, 0.9932683110237122], [0.7942339777946472, 0.7942339777946472, 0.7948279976844788, 0.7970719933509827, 0.8112949728965759, 0.8620330095291138, 0.9487159848213196, 0.9775450229644775, 0.9948337078094482], [0.5880749821662903, 0.5880749821662903, 0.5879300236701965, 0.4084419906139374, 0.5938969850540161, 0.6099370121955872, 0.6310110092163086, 0.6786310076713562, 0.7812730073928833], [0.6289389729499817, 0.6289389729499817, 0.6292909979820251, 0.630403995513916, 0.6371970176696777, 0.6606780290603638, 0.7166169881820679, 0.7670419812202454, 0.8258299827575684], [0.6699349880218506, 0.6699349880218506, 0.6699349880218506, 0.5062540173530579, 0.6805530190467834, 0.7114700078964233, 0.766215980052948, 0.8427370190620422, 0.8616160154342651], [0.8362209796905518, 0.8362209796905518, 0.8369140028953552, 0.7195799946784973, 0.8557119965553284, 0.9114834070205688, 0.975721001625061, 0.9930559992790222, 0.9960302114486694], [0.878495991230011, 0.878495991230011, 0.8792740106582642, 0.8821229934692383, 0.9014366269111633, 0.9558382034301758, 0.9828490018844604, 0.9828490018844604, 0.9828490018844604]]}, {\"scene\": \"scene4\", \"showscale\": false, \"type\": \"surface\", \"x\": [0.314159, 0.31416, 0.62832, 1.25664, 3.14159, 6.28319, 9.42478, 12.5664, 15.708], \"y\": [0.0, 0.1, 0.5, 0.6, 0.7, 0.2, 0.3, 0.4, 0.8, 0.9], \"z\": [[1.117069959640503, 1.117069959640503, 1.7437800168991089, 0.8086829781532288, 6.758180141448975, 13.128800392150879, 19.647199630737305, 26.382400512695312, 33.762298583984375], [1.0827000141143799, 1.0827000141143799, 1.703510046005249, 2.948699951171875, 6.6940598487854, 13.015399932861328, 19.40839958190918, 25.963300704956055, 30.341400146484375], [0.9003620147705078, 0.9003620147705078, 1.4687700271606445, 2.6083600521087646, 5.9875898361206055, 11.212599754333496, 15.157500267028809, 16.015199661254883, 5.497769832611084], [0.8360649943351746, 0.8360649943351746, 1.3790899515151978, 2.46370005607605, 5.642600059509277, 10.286299705505371, 12.882699966430664, 11.375300407409668, 4.870480060577393], [0.7600650191307068, 0.7600650191307068, 1.2722300291061401, 2.2850699424743652, 5.216310024261475, 9.125289916992188, 8.43988037109375, 7.845920085906982, 4.383930206298828], [1.044569969177246, 1.044569969177246, 1.6622099876403809, 0.7423650026321411, 6.596799850463867, 12.790800094604492, 18.97260093688965, 24.83930015563965, 28.177200317382812], [1.0018500089645386, 1.0018500089645386, 1.6066700220108032, 2.817620038986206, 6.445789813995361, 12.438799858093262, 17.86210060119629, 22.693500518798828, 25.96940040588379], [0.9537969827651978, 0.9537969827651978, 1.5463600158691406, 0.6713420152664185, 6.240109920501709, 11.908900260925293, 16.874799728393555, 19.72279930114746, 23.939300537109375], [0.6702309846878052, 0.6702309846878052, 1.1368000507354736, 0.4963560104370117, 4.6285200119018555, 7.502590179443359, 5.184490203857422, 3.705980062484741, 3.9748499393463135], [0.5501009821891785, 0.5501009821891785, 0.9544559717178345, 1.7412699460983276, 3.8629798889160156, 5.024819850921631, 4.345709800720215, 4.345709800720215, 4.345709800720215]]}],\n                        {\"annotations\": [{\"font\": {\"size\": 16}, \"showarrow\": false, \"text\": \"Min_Feret\", \"x\": 0.225, \"xanchor\": \"center\", \"xref\": \"paper\", \"y\": 1.0, \"yanchor\": \"bottom\", \"yref\": \"paper\"}, {\"font\": {\"size\": 16}, \"showarrow\": false, \"text\": \"Max_Feret\", \"x\": 0.775, \"xanchor\": \"center\", \"xref\": \"paper\", \"y\": 1.0, \"yanchor\": \"bottom\", \"yref\": \"paper\"}, {\"font\": {\"size\": 16}, \"showarrow\": false, \"text\": \"Porosity\", \"x\": 0.225, \"xanchor\": \"center\", \"xref\": \"paper\", \"y\": 0.45, \"yanchor\": \"bottom\", \"yref\": \"paper\"}, {\"font\": {\"size\": 16}, \"showarrow\": false, \"text\": \"SAR\", \"x\": 0.775, \"xanchor\": \"center\", \"xref\": \"paper\", \"y\": 0.45, \"yanchor\": \"bottom\", \"yref\": \"paper\"}], \"height\": 800, \"scene\": {\"aspectmode\": \"cube\", \"camera\": {\"eye\": {\"x\": 1.5, \"y\": -1.5, \"z\": 1.5}}, \"domain\": {\"x\": [0.0, 0.45], \"y\": [0.55, 1.0]}}, \"scene2\": {\"aspectmode\": \"cube\", \"camera\": {\"eye\": {\"x\": 1.5, \"y\": -1.5, \"z\": 1.5}}, \"domain\": {\"x\": [0.55, 1.0], \"y\": [0.55, 1.0]}}, \"scene3\": {\"aspectmode\": \"cube\", \"camera\": {\"eye\": {\"x\": 1.5, \"y\": -1.5, \"z\": 1.5}}, \"domain\": {\"x\": [0.0, 0.45], \"y\": [0.0, 0.45]}}, \"scene4\": {\"aspectmode\": \"cube\", \"camera\": {\"eye\": {\"x\": -1.5, \"y\": 1.5, \"z\": 1.5}}, \"domain\": {\"x\": [0.55, 1.0], \"y\": [0.0, 0.45]}}, \"template\": {\"data\": {\"bar\": [{\"error_x\": {\"color\": \"#2a3f5f\"}, \"error_y\": {\"color\": \"#2a3f5f\"}, \"marker\": {\"line\": {\"color\": \"#E5ECF6\", \"width\": 0.5}}, \"type\": \"bar\"}], \"barpolar\": [{\"marker\": {\"line\": {\"color\": \"#E5ECF6\", \"width\": 0.5}}, \"type\": \"barpolar\"}], \"carpet\": [{\"aaxis\": {\"endlinecolor\": \"#2a3f5f\", \"gridcolor\": \"white\", \"linecolor\": \"white\", \"minorgridcolor\": \"white\", \"startlinecolor\": \"#2a3f5f\"}, \"baxis\": {\"endlinecolor\": \"#2a3f5f\", \"gridcolor\": \"white\", \"linecolor\": \"white\", \"minorgridcolor\": \"white\", \"startlinecolor\": \"#2a3f5f\"}, \"type\": \"carpet\"}], \"choropleth\": [{\"colorbar\": {\"outlinewidth\": 0, \"ticks\": \"\"}, \"type\": \"choropleth\"}], \"contour\": [{\"colorbar\": {\"outlinewidth\": 0, \"ticks\": \"\"}, \"colorscale\": [[0.0, \"#0d0887\"], [0.1111111111111111, \"#46039f\"], [0.2222222222222222, \"#7201a8\"], [0.3333333333333333, \"#9c179e\"], [0.4444444444444444, \"#bd3786\"], [0.5555555555555556, \"#d8576b\"], [0.6666666666666666, \"#ed7953\"], [0.7777777777777778, \"#fb9f3a\"], [0.8888888888888888, \"#fdca26\"], [1.0, \"#f0f921\"]], \"type\": \"contour\"}], \"contourcarpet\": [{\"colorbar\": {\"outlinewidth\": 0, \"ticks\": \"\"}, \"type\": \"contourcarpet\"}], \"heatmap\": [{\"colorbar\": {\"outlinewidth\": 0, \"ticks\": \"\"}, \"colorscale\": [[0.0, \"#0d0887\"], [0.1111111111111111, \"#46039f\"], [0.2222222222222222, \"#7201a8\"], [0.3333333333333333, \"#9c179e\"], [0.4444444444444444, \"#bd3786\"], [0.5555555555555556, \"#d8576b\"], [0.6666666666666666, \"#ed7953\"], [0.7777777777777778, \"#fb9f3a\"], [0.8888888888888888, \"#fdca26\"], [1.0, \"#f0f921\"]], \"type\": \"heatmap\"}], \"heatmapgl\": [{\"colorbar\": {\"outlinewidth\": 0, \"ticks\": \"\"}, \"colorscale\": [[0.0, \"#0d0887\"], [0.1111111111111111, \"#46039f\"], [0.2222222222222222, \"#7201a8\"], [0.3333333333333333, \"#9c179e\"], [0.4444444444444444, \"#bd3786\"], [0.5555555555555556, \"#d8576b\"], [0.6666666666666666, \"#ed7953\"], [0.7777777777777778, \"#fb9f3a\"], [0.8888888888888888, \"#fdca26\"], [1.0, \"#f0f921\"]], \"type\": \"heatmapgl\"}], \"histogram\": [{\"marker\": {\"colorbar\": {\"outlinewidth\": 0, \"ticks\": \"\"}}, \"type\": \"histogram\"}], \"histogram2d\": [{\"colorbar\": {\"outlinewidth\": 0, \"ticks\": \"\"}, \"colorscale\": [[0.0, \"#0d0887\"], [0.1111111111111111, \"#46039f\"], [0.2222222222222222, \"#7201a8\"], [0.3333333333333333, \"#9c179e\"], [0.4444444444444444, \"#bd3786\"], [0.5555555555555556, \"#d8576b\"], [0.6666666666666666, \"#ed7953\"], [0.7777777777777778, \"#fb9f3a\"], [0.8888888888888888, \"#fdca26\"], [1.0, \"#f0f921\"]], \"type\": \"histogram2d\"}], \"histogram2dcontour\": [{\"colorbar\": {\"outlinewidth\": 0, \"ticks\": \"\"}, \"colorscale\": [[0.0, \"#0d0887\"], [0.1111111111111111, \"#46039f\"], [0.2222222222222222, \"#7201a8\"], [0.3333333333333333, \"#9c179e\"], [0.4444444444444444, \"#bd3786\"], [0.5555555555555556, \"#d8576b\"], [0.6666666666666666, \"#ed7953\"], [0.7777777777777778, \"#fb9f3a\"], [0.8888888888888888, \"#fdca26\"], [1.0, \"#f0f921\"]], \"type\": \"histogram2dcontour\"}], \"mesh3d\": [{\"colorbar\": {\"outlinewidth\": 0, \"ticks\": \"\"}, \"type\": \"mesh3d\"}], \"parcoords\": [{\"line\": {\"colorbar\": {\"outlinewidth\": 0, \"ticks\": \"\"}}, \"type\": \"parcoords\"}], \"pie\": [{\"automargin\": true, \"type\": \"pie\"}], \"scatter\": [{\"marker\": {\"colorbar\": {\"outlinewidth\": 0, \"ticks\": \"\"}}, \"type\": \"scatter\"}], \"scatter3d\": [{\"line\": {\"colorbar\": {\"outlinewidth\": 0, \"ticks\": \"\"}}, \"marker\": {\"colorbar\": {\"outlinewidth\": 0, \"ticks\": \"\"}}, \"type\": \"scatter3d\"}], \"scattercarpet\": [{\"marker\": {\"colorbar\": {\"outlinewidth\": 0, \"ticks\": \"\"}}, \"type\": \"scattercarpet\"}], \"scattergeo\": [{\"marker\": {\"colorbar\": {\"outlinewidth\": 0, \"ticks\": \"\"}}, \"type\": \"scattergeo\"}], \"scattergl\": [{\"marker\": {\"colorbar\": {\"outlinewidth\": 0, \"ticks\": \"\"}}, \"type\": \"scattergl\"}], \"scattermapbox\": [{\"marker\": {\"colorbar\": {\"outlinewidth\": 0, \"ticks\": \"\"}}, \"type\": \"scattermapbox\"}], \"scatterpolar\": [{\"marker\": {\"colorbar\": {\"outlinewidth\": 0, \"ticks\": \"\"}}, \"type\": \"scatterpolar\"}], \"scatterpolargl\": [{\"marker\": {\"colorbar\": {\"outlinewidth\": 0, \"ticks\": \"\"}}, \"type\": \"scatterpolargl\"}], \"scatterternary\": [{\"marker\": {\"colorbar\": {\"outlinewidth\": 0, \"ticks\": \"\"}}, \"type\": \"scatterternary\"}], \"surface\": [{\"colorbar\": {\"outlinewidth\": 0, \"ticks\": \"\"}, \"colorscale\": [[0.0, \"#0d0887\"], [0.1111111111111111, \"#46039f\"], [0.2222222222222222, \"#7201a8\"], [0.3333333333333333, \"#9c179e\"], [0.4444444444444444, \"#bd3786\"], [0.5555555555555556, \"#d8576b\"], [0.6666666666666666, \"#ed7953\"], [0.7777777777777778, \"#fb9f3a\"], [0.8888888888888888, \"#fdca26\"], [1.0, \"#f0f921\"]], \"type\": \"surface\"}], \"table\": [{\"cells\": {\"fill\": {\"color\": \"#EBF0F8\"}, \"line\": {\"color\": \"white\"}}, \"header\": {\"fill\": {\"color\": \"#C8D4E3\"}, \"line\": {\"color\": \"white\"}}, \"type\": \"table\"}]}, \"layout\": {\"annotationdefaults\": {\"arrowcolor\": \"#2a3f5f\", \"arrowhead\": 0, \"arrowwidth\": 1}, \"coloraxis\": {\"colorbar\": {\"outlinewidth\": 0, \"ticks\": \"\"}}, \"colorscale\": {\"diverging\": [[0, \"#8e0152\"], [0.1, \"#c51b7d\"], [0.2, \"#de77ae\"], [0.3, \"#f1b6da\"], [0.4, \"#fde0ef\"], [0.5, \"#f7f7f7\"], [0.6, \"#e6f5d0\"], [0.7, \"#b8e186\"], [0.8, \"#7fbc41\"], [0.9, \"#4d9221\"], [1, \"#276419\"]], \"sequential\": [[0.0, \"#0d0887\"], [0.1111111111111111, \"#46039f\"], [0.2222222222222222, \"#7201a8\"], [0.3333333333333333, \"#9c179e\"], [0.4444444444444444, \"#bd3786\"], [0.5555555555555556, \"#d8576b\"], [0.6666666666666666, \"#ed7953\"], [0.7777777777777778, \"#fb9f3a\"], [0.8888888888888888, \"#fdca26\"], [1.0, \"#f0f921\"]], \"sequentialminus\": [[0.0, \"#0d0887\"], [0.1111111111111111, \"#46039f\"], [0.2222222222222222, \"#7201a8\"], [0.3333333333333333, \"#9c179e\"], [0.4444444444444444, \"#bd3786\"], [0.5555555555555556, \"#d8576b\"], [0.6666666666666666, \"#ed7953\"], [0.7777777777777778, \"#fb9f3a\"], [0.8888888888888888, \"#fdca26\"], [1.0, \"#f0f921\"]]}, \"colorway\": [\"#636efa\", \"#EF553B\", \"#00cc96\", \"#ab63fa\", \"#FFA15A\", \"#19d3f3\", \"#FF6692\", \"#B6E880\", \"#FF97FF\", \"#FECB52\"], \"font\": {\"color\": \"#2a3f5f\"}, \"geo\": {\"bgcolor\": \"white\", \"lakecolor\": \"white\", \"landcolor\": \"#E5ECF6\", \"showlakes\": true, \"showland\": true, \"subunitcolor\": \"white\"}, \"hoverlabel\": {\"align\": \"left\"}, \"hovermode\": \"closest\", \"mapbox\": {\"style\": \"light\"}, \"paper_bgcolor\": \"white\", \"plot_bgcolor\": \"#E5ECF6\", \"polar\": {\"angularaxis\": {\"gridcolor\": \"white\", \"linecolor\": \"white\", \"ticks\": \"\"}, \"bgcolor\": \"#E5ECF6\", \"radialaxis\": {\"gridcolor\": \"white\", \"linecolor\": \"white\", \"ticks\": \"\"}}, \"scene\": {\"xaxis\": {\"backgroundcolor\": \"#E5ECF6\", \"gridcolor\": \"white\", \"gridwidth\": 2, \"linecolor\": \"white\", \"showbackground\": true, \"ticks\": \"\", \"zerolinecolor\": \"white\"}, \"yaxis\": {\"backgroundcolor\": \"#E5ECF6\", \"gridcolor\": \"white\", \"gridwidth\": 2, \"linecolor\": \"white\", \"showbackground\": true, \"ticks\": \"\", \"zerolinecolor\": \"white\"}, \"zaxis\": {\"backgroundcolor\": \"#E5ECF6\", \"gridcolor\": \"white\", \"gridwidth\": 2, \"linecolor\": \"white\", \"showbackground\": true, \"ticks\": \"\", \"zerolinecolor\": \"white\"}}, \"shapedefaults\": {\"line\": {\"color\": \"#2a3f5f\"}}, \"ternary\": {\"aaxis\": {\"gridcolor\": \"white\", \"linecolor\": \"white\", \"ticks\": \"\"}, \"baxis\": {\"gridcolor\": \"white\", \"linecolor\": \"white\", \"ticks\": \"\"}, \"bgcolor\": \"#E5ECF6\", \"caxis\": {\"gridcolor\": \"white\", \"linecolor\": \"white\", \"ticks\": \"\"}}, \"title\": {\"x\": 0.05}, \"xaxis\": {\"automargin\": true, \"gridcolor\": \"white\", \"linecolor\": \"white\", \"ticks\": \"\", \"title\": {\"standoff\": 15}, \"zerolinecolor\": \"white\", \"zerolinewidth\": 2}, \"yaxis\": {\"automargin\": true, \"gridcolor\": \"white\", \"linecolor\": \"white\", \"ticks\": \"\", \"title\": {\"standoff\": 15}, \"zerolinecolor\": \"white\", \"zerolinewidth\": 2}}}, \"title\": {\"text\": \"schwarzd\"}, \"width\": 800},\n                        {\"responsive\": true}\n                    ).then(function(){\n                            \nvar gd = document.getElementById('5054b7f4-5427-441e-a231-44bb712fe2f4');\nvar x = new MutationObserver(function (mutations, observer) {{\n        var display = window.getComputedStyle(gd).display;\n        if (!display || display === 'none') {{\n            console.log([gd, 'removed!']);\n            Plotly.purge(gd);\n            observer.disconnect();\n        }}\n}});\n\n// Listen for the removal of the full notebook cells\nvar notebookContainer = gd.closest('#notebook-container');\nif (notebookContainer) {{\n    x.observe(notebookContainer, {childList: true});\n}}\n\n// Listen for the clearing of the current output cell\nvar outputEl = gd.closest('.output');\nif (outputEl) {{\n    x.observe(outputEl, {childList: true});\n}}\n\n                        })\n                };\n                \n            </script>\n        </div>\n</body>\n</html>"
              }
            ],
            "_view_module": "@jupyter-widgets/output",
            "_model_module_version": "1.0.0",
            "_view_count": null,
            "_view_module_version": "1.0.0",
            "layout": "IPY_MODEL_a274d2a00ae6489e85dbebad783d38fd",
            "_model_module": "@jupyter-widgets/output"
          }
        },
        "cf961cef150c4463b8918d7c3f8a1fb2": {
          "model_module": "@jupyter-widgets/controls",
          "model_name": "DescriptionStyleModel",
          "state": {
            "_view_name": "StyleView",
            "_model_name": "DescriptionStyleModel",
            "description_width": "",
            "_view_module": "@jupyter-widgets/base",
            "_model_module_version": "1.5.0",
            "_view_count": null,
            "_view_module_version": "1.2.0",
            "_model_module": "@jupyter-widgets/controls"
          }
        },
        "015ae0cb5e0542ac9a81deb906e0dd42": {
          "model_module": "@jupyter-widgets/base",
          "model_name": "LayoutModel",
          "state": {
            "_view_name": "LayoutView",
            "grid_template_rows": null,
            "right": null,
            "justify_content": null,
            "_view_module": "@jupyter-widgets/base",
            "overflow": null,
            "_model_module_version": "1.2.0",
            "_view_count": null,
            "flex_flow": null,
            "width": null,
            "min_width": null,
            "border": null,
            "align_items": null,
            "bottom": null,
            "_model_module": "@jupyter-widgets/base",
            "top": null,
            "grid_column": null,
            "overflow_y": null,
            "overflow_x": null,
            "grid_auto_flow": null,
            "grid_area": null,
            "grid_template_columns": null,
            "flex": null,
            "_model_name": "LayoutModel",
            "justify_items": null,
            "grid_row": null,
            "max_height": null,
            "align_content": null,
            "visibility": null,
            "align_self": null,
            "height": null,
            "min_height": null,
            "padding": null,
            "grid_auto_rows": null,
            "grid_gap": null,
            "max_width": null,
            "order": null,
            "_view_module_version": "1.2.0",
            "grid_template_areas": null,
            "object_position": null,
            "object_fit": null,
            "grid_auto_columns": null,
            "margin": null,
            "display": null,
            "left": null
          }
        },
        "a274d2a00ae6489e85dbebad783d38fd": {
          "model_module": "@jupyter-widgets/base",
          "model_name": "LayoutModel",
          "state": {
            "_view_name": "LayoutView",
            "grid_template_rows": null,
            "right": null,
            "justify_content": null,
            "_view_module": "@jupyter-widgets/base",
            "overflow": null,
            "_model_module_version": "1.2.0",
            "_view_count": null,
            "flex_flow": null,
            "width": null,
            "min_width": null,
            "border": null,
            "align_items": null,
            "bottom": null,
            "_model_module": "@jupyter-widgets/base",
            "top": null,
            "grid_column": null,
            "overflow_y": null,
            "overflow_x": null,
            "grid_auto_flow": null,
            "grid_area": null,
            "grid_template_columns": null,
            "flex": null,
            "_model_name": "LayoutModel",
            "justify_items": null,
            "grid_row": null,
            "max_height": null,
            "align_content": null,
            "visibility": null,
            "align_self": null,
            "height": null,
            "min_height": null,
            "padding": null,
            "grid_auto_rows": null,
            "grid_gap": null,
            "max_width": null,
            "order": null,
            "_view_module_version": "1.2.0",
            "grid_template_areas": null,
            "object_position": null,
            "object_fit": null,
            "grid_auto_columns": null,
            "margin": null,
            "display": null,
            "left": null
          }
        },
        "9f10be02b68c456c9a72d7a3a94f21bf": {
          "model_module": "@jupyter-widgets/controls",
          "model_name": "VBoxModel",
          "state": {
            "_view_name": "VBoxView",
            "_dom_classes": [
              "widget-interact"
            ],
            "_model_name": "VBoxModel",
            "_view_module": "@jupyter-widgets/controls",
            "_model_module_version": "1.5.0",
            "_view_count": null,
            "_view_module_version": "1.5.0",
            "box_style": "",
            "layout": "IPY_MODEL_7ddc9bb69287403091e9c0f40bb47590",
            "_model_module": "@jupyter-widgets/controls",
            "children": [
              "IPY_MODEL_21d5ecbf744448249c5defb1b9efaffc",
              "IPY_MODEL_afc9b0f4d47d4f429ca8818359e08b5a",
              "IPY_MODEL_a2d070e67db14a6d933ef4a549eb5b53"
            ]
          }
        },
        "7ddc9bb69287403091e9c0f40bb47590": {
          "model_module": "@jupyter-widgets/base",
          "model_name": "LayoutModel",
          "state": {
            "_view_name": "LayoutView",
            "grid_template_rows": null,
            "right": null,
            "justify_content": null,
            "_view_module": "@jupyter-widgets/base",
            "overflow": null,
            "_model_module_version": "1.2.0",
            "_view_count": null,
            "flex_flow": null,
            "width": null,
            "min_width": null,
            "border": null,
            "align_items": null,
            "bottom": null,
            "_model_module": "@jupyter-widgets/base",
            "top": null,
            "grid_column": null,
            "overflow_y": null,
            "overflow_x": null,
            "grid_auto_flow": null,
            "grid_area": null,
            "grid_template_columns": null,
            "flex": null,
            "_model_name": "LayoutModel",
            "justify_items": null,
            "grid_row": null,
            "max_height": null,
            "align_content": null,
            "visibility": null,
            "align_self": null,
            "height": null,
            "min_height": null,
            "padding": null,
            "grid_auto_rows": null,
            "grid_gap": null,
            "max_width": null,
            "order": null,
            "_view_module_version": "1.2.0",
            "grid_template_areas": null,
            "object_position": null,
            "object_fit": null,
            "grid_auto_columns": null,
            "margin": null,
            "display": null,
            "left": null
          }
        },
        "21d5ecbf744448249c5defb1b9efaffc": {
          "model_module": "@jupyter-widgets/controls",
          "model_name": "DropdownModel",
          "state": {
            "_options_labels": [
              "bcc",
              "double-d",
              "double-gyroid",
              "double-p",
              "gyroid",
              "lidinoid",
              "neovius",
              "schoen_iwp",
              "schwarzd",
              "schwarzp",
              "tubular_g_ab",
              "tubular_g_c"
            ],
            "_view_name": "DropdownView",
            "style": "IPY_MODEL_37ac77d271fd4df29826f5991b6967ac",
            "_dom_classes": [],
            "description": "surface",
            "_model_name": "DropdownModel",
            "index": 0,
            "_view_module": "@jupyter-widgets/controls",
            "_model_module_version": "1.5.0",
            "_view_count": null,
            "disabled": false,
            "_view_module_version": "1.5.0",
            "description_tooltip": null,
            "_model_module": "@jupyter-widgets/controls",
            "layout": "IPY_MODEL_6f5f6dbbb8f2477bb15434edd931c8f2"
          }
        },
        "afc9b0f4d47d4f429ca8818359e08b5a": {
          "model_module": "@jupyter-widgets/controls",
          "model_name": "TextModel",
          "state": {
            "_view_name": "TextView",
            "style": "IPY_MODEL_028b2db26c96410a8b740a6ac893d6b3",
            "_dom_classes": [],
            "description": "formula",
            "_model_name": "TextModel",
            "placeholder": "​",
            "_view_module": "@jupyter-widgets/controls",
            "_model_module_version": "1.5.0",
            "value": "",
            "_view_count": null,
            "disabled": false,
            "_view_module_version": "1.5.0",
            "continuous_update": true,
            "description_tooltip": null,
            "_model_module": "@jupyter-widgets/controls",
            "layout": "IPY_MODEL_79dac3a5caff4e9ba3c4146ac57cdeab"
          }
        },
        "a2d070e67db14a6d933ef4a549eb5b53": {
          "model_module": "@jupyter-widgets/output",
          "model_name": "OutputModel",
          "state": {
            "_view_name": "OutputView",
            "msg_id": "",
            "_dom_classes": [],
            "_model_name": "OutputModel",
            "outputs": [
              {
                "output_type": "stream",
                "metadata": {
                  "tags": []
                },
                "text": "model is missing required outcome variables\n",
                "stream": "stdout"
              }
            ],
            "_view_module": "@jupyter-widgets/output",
            "_model_module_version": "1.0.0",
            "_view_count": null,
            "_view_module_version": "1.0.0",
            "layout": "IPY_MODEL_15d0148682964ed4aef254abf17beb10",
            "_model_module": "@jupyter-widgets/output"
          }
        },
        "37ac77d271fd4df29826f5991b6967ac": {
          "model_module": "@jupyter-widgets/controls",
          "model_name": "DescriptionStyleModel",
          "state": {
            "_view_name": "StyleView",
            "_model_name": "DescriptionStyleModel",
            "description_width": "",
            "_view_module": "@jupyter-widgets/base",
            "_model_module_version": "1.5.0",
            "_view_count": null,
            "_view_module_version": "1.2.0",
            "_model_module": "@jupyter-widgets/controls"
          }
        },
        "6f5f6dbbb8f2477bb15434edd931c8f2": {
          "model_module": "@jupyter-widgets/base",
          "model_name": "LayoutModel",
          "state": {
            "_view_name": "LayoutView",
            "grid_template_rows": null,
            "right": null,
            "justify_content": null,
            "_view_module": "@jupyter-widgets/base",
            "overflow": null,
            "_model_module_version": "1.2.0",
            "_view_count": null,
            "flex_flow": null,
            "width": null,
            "min_width": null,
            "border": null,
            "align_items": null,
            "bottom": null,
            "_model_module": "@jupyter-widgets/base",
            "top": null,
            "grid_column": null,
            "overflow_y": null,
            "overflow_x": null,
            "grid_auto_flow": null,
            "grid_area": null,
            "grid_template_columns": null,
            "flex": null,
            "_model_name": "LayoutModel",
            "justify_items": null,
            "grid_row": null,
            "max_height": null,
            "align_content": null,
            "visibility": null,
            "align_self": null,
            "height": null,
            "min_height": null,
            "padding": null,
            "grid_auto_rows": null,
            "grid_gap": null,
            "max_width": null,
            "order": null,
            "_view_module_version": "1.2.0",
            "grid_template_areas": null,
            "object_position": null,
            "object_fit": null,
            "grid_auto_columns": null,
            "margin": null,
            "display": null,
            "left": null
          }
        },
        "028b2db26c96410a8b740a6ac893d6b3": {
          "model_module": "@jupyter-widgets/controls",
          "model_name": "DescriptionStyleModel",
          "state": {
            "_view_name": "StyleView",
            "_model_name": "DescriptionStyleModel",
            "description_width": "",
            "_view_module": "@jupyter-widgets/base",
            "_model_module_version": "1.5.0",
            "_view_count": null,
            "_view_module_version": "1.2.0",
            "_model_module": "@jupyter-widgets/controls"
          }
        },
        "79dac3a5caff4e9ba3c4146ac57cdeab": {
          "model_module": "@jupyter-widgets/base",
          "model_name": "LayoutModel",
          "state": {
            "_view_name": "LayoutView",
            "grid_template_rows": null,
            "right": null,
            "justify_content": null,
            "_view_module": "@jupyter-widgets/base",
            "overflow": null,
            "_model_module_version": "1.2.0",
            "_view_count": null,
            "flex_flow": null,
            "width": null,
            "min_width": null,
            "border": null,
            "align_items": null,
            "bottom": null,
            "_model_module": "@jupyter-widgets/base",
            "top": null,
            "grid_column": null,
            "overflow_y": null,
            "overflow_x": null,
            "grid_auto_flow": null,
            "grid_area": null,
            "grid_template_columns": null,
            "flex": null,
            "_model_name": "LayoutModel",
            "justify_items": null,
            "grid_row": null,
            "max_height": null,
            "align_content": null,
            "visibility": null,
            "align_self": null,
            "height": null,
            "min_height": null,
            "padding": null,
            "grid_auto_rows": null,
            "grid_gap": null,
            "max_width": null,
            "order": null,
            "_view_module_version": "1.2.0",
            "grid_template_areas": null,
            "object_position": null,
            "object_fit": null,
            "grid_auto_columns": null,
            "margin": null,
            "display": null,
            "left": null
          }
        },
        "15d0148682964ed4aef254abf17beb10": {
          "model_module": "@jupyter-widgets/base",
          "model_name": "LayoutModel",
          "state": {
            "_view_name": "LayoutView",
            "grid_template_rows": null,
            "right": null,
            "justify_content": null,
            "_view_module": "@jupyter-widgets/base",
            "overflow": null,
            "_model_module_version": "1.2.0",
            "_view_count": null,
            "flex_flow": null,
            "width": null,
            "min_width": null,
            "border": null,
            "align_items": null,
            "bottom": null,
            "_model_module": "@jupyter-widgets/base",
            "top": null,
            "grid_column": null,
            "overflow_y": null,
            "overflow_x": null,
            "grid_auto_flow": null,
            "grid_area": null,
            "grid_template_columns": null,
            "flex": null,
            "_model_name": "LayoutModel",
            "justify_items": null,
            "grid_row": null,
            "max_height": null,
            "align_content": null,
            "visibility": null,
            "align_self": null,
            "height": null,
            "min_height": null,
            "padding": null,
            "grid_auto_rows": null,
            "grid_gap": null,
            "max_width": null,
            "order": null,
            "_view_module_version": "1.2.0",
            "grid_template_areas": null,
            "object_position": null,
            "object_fit": null,
            "grid_auto_columns": null,
            "margin": null,
            "display": null,
            "left": null
          }
        }
      }
    }
  },
  "cells": [
    {
      "cell_type": "markdown",
      "metadata": {
        "id": "view-in-github",
        "colab_type": "text"
      },
      "source": [
        "<a href=\"https://colab.research.google.com/github/nodtem66/Scaffolder/blob/master/data/data_visualization.ipynb\" target=\"_parent\"><img src=\"https://colab.research.google.com/assets/colab-badge.svg\" alt=\"Open In Colab\"/></a>"
      ]
    },
    {
      "cell_type": "markdown",
      "metadata": {
        "id": "IvmI8Y8Lrqod",
        "colab_type": "text"
      },
      "source": [
        "# Data visualization\n",
        "### The Computational tool for generating a porous scaffold based on implicit surfaces\n",
        "\n",
        "\n",
        "**Abstract**\n",
        "\n",
        "This notebook visualized the results from the publication. The raw dataset is available at [Mendeley Data](https://data.mendeley.com/datasets/sbxr7xxvnd/2).\n",
        "The program that used to generate this data released at [Github repository](https://github.com/nodtem66/Scaffolder). In this notebook, you will explore the interactive results from the frequency angle and iso-level study. The regression analysis also possible to re-evaluate. \n",
        "\n",
        "<br>\n",
        "Jirawat Iamsamang<sup>1</sup>, Phornphop Naiyanetr<sup>1,*</sup><br>\n",
        "<sup>1</sup>Dept. of Biomedical Engineering, Faculty of Engineering,\n",
        "Mahidol University, Nakhon Pathom, Thailand\n",
        "<sup>*</sup>Corresponding author: phornphop.nai@mahidol.ac.th\n",
        "\n",
        "\n"
      ]
    },
    {
      "cell_type": "markdown",
      "metadata": {
        "id": "KPWu9sR7vMoJ",
        "colab_type": "text"
      },
      "source": [
        "# Frequency angle and iso-level study"
      ]
    },
    {
      "cell_type": "code",
      "metadata": {
        "id": "eT2ttFCBrpQT",
        "colab_type": "code",
        "cellView": "form",
        "colab": {
          "base_uri": "https://localhost:8080/",
          "height": 255
        },
        "outputId": "0778a155-5841-4c85-b79d-824e2804a2fa"
      },
      "source": [
        "#@title  Download dataset from Mendeley\n",
        "! curl -L https://data.mendeley.com/public-files/datasets/sbxr7xxvnd/files/3a586aee-6d38-48b3-9d75-f4b6eeb42b6d/file_downloaded -o freq_iso_level.xlsx\n",
        "! pip install -U plotly"
      ],
      "execution_count": null,
      "outputs": [
        {
          "output_type": "stream",
          "text": [
            "  % Total    % Received % Xferd  Average Speed   Time    Time     Time  Current\n",
            "                                 Dload  Upload   Total   Spent    Left  Speed\n",
            "100   123  100   123    0     0    129      0 --:--:-- --:--:-- --:--:--   129\n",
            "100  141k  100  141k    0     0  80678      0  0:00:01  0:00:01 --:--:-- 23.1M\n",
            "Collecting plotly\n",
            "\u001b[?25l  Downloading https://files.pythonhosted.org/packages/bf/5f/47ab0d9d843c5be0f5c5bd891736a4c84fa45c3b0a0ddb6b6df7c098c66f/plotly-4.9.0-py2.py3-none-any.whl (12.9MB)\n",
            "\u001b[K     |████████████████████████████████| 12.9MB 6.9MB/s \n",
            "\u001b[?25hRequirement already satisfied, skipping upgrade: six in /usr/local/lib/python3.6/dist-packages (from plotly) (1.15.0)\n",
            "Requirement already satisfied, skipping upgrade: retrying>=1.3.3 in /usr/local/lib/python3.6/dist-packages (from plotly) (1.3.3)\n",
            "Installing collected packages: plotly\n",
            "  Found existing installation: plotly 4.4.1\n",
            "    Uninstalling plotly-4.4.1:\n",
            "      Successfully uninstalled plotly-4.4.1\n",
            "Successfully installed plotly-4.9.0\n"
          ],
          "name": "stdout"
        }
      ]
    },
    {
      "cell_type": "code",
      "metadata": {
        "id": "zJund9ES6lh7",
        "colab_type": "code",
        "cellView": "form",
        "colab": {}
      },
      "source": [
        "#@title Helper functions\n",
        "import numpy as np\n",
        "import pandas as pd\n",
        "import statsmodels.api as sm\n",
        "import statsmodels.formula.api as smf\n",
        "import seaborn as sns\n",
        "import matplotlib.pyplot as plt\n",
        "from matplotlib import cm\n",
        "from matplotlib import rc\n",
        "from matplotlib.ticker import MultipleLocator\n",
        "from ipywidgets import interact, interactive, fixed, interact_manual\n",
        "import ipywidgets as widgets\n",
        "import plotly.graph_objects as go\n",
        "import plotly.express as px\n",
        "from plotly.subplots import make_subplots\n",
        "\n",
        "import json\n",
        "import os\n",
        "\n",
        "rc('font',size=8)\n",
        "rc('font',family='serif')\n",
        "rc('axes',labelsize=10)\n",
        "\n",
        "def plot(name, x, y, z, is_export=True):\n",
        "    fig = plt.figure(name)\n",
        "    # check that y data have more than one sample\n",
        "    if pd.unique(y).shape[0] <= 1:\n",
        "        # plot 2D\n",
        "        sns.scatterplot(x, z)\n",
        "        plt.xlabel('$\\\\omega$')\n",
        "        plt.show()\n",
        "    else: \n",
        "        # plot 3D\n",
        "        ax = fig.gca(projection='3d')\n",
        "        ax.plot_trisurf(x, y, z, cmap=cm.jet, linewidth=0.2)\n",
        "        # Backgroud\n",
        "        ax.grid(True)\n",
        "        ax.xaxis.pane.set_edgecolor('black')\n",
        "        ax.yaxis.pane.set_edgecolor('black')\n",
        "        ax.xaxis.pane.fill = False\n",
        "        ax.yaxis.pane.fill = False\n",
        "        ax.zaxis.pane.fill = False\n",
        "        ax.xaxis._axinfo['tick']['inward_factor'] = 0\n",
        "        ax.xaxis._axinfo['tick']['outward_factor'] = 0.4\n",
        "        ax.yaxis._axinfo['tick']['inward_factor'] = 0\n",
        "        ax.yaxis._axinfo['tick']['outward_factor'] = 0.4\n",
        "        ax.zaxis._axinfo['tick']['inward_factor'] = 0\n",
        "        ax.zaxis._axinfo['tick']['outward_factor'] = 0.4\n",
        "        ax.zaxis._axinfo['tick']['outward_factor'] = 0.4\n",
        "\n",
        "        plt.xlabel('$\\\\omega$')\n",
        "        plt.ylabel('t')\n",
        "        plt.show()\n",
        "\n",
        "def visualize(data, surface='bcc', is_export=True):\n",
        "    df = data.query(f'Surface == \"{surface}\"')\n",
        "    plot(f'{surface}--min', df.w, df.t, df.Min_Feret, is_export)\n",
        "    plot(f'{surface}--max', df.w, df.t, df.Max_Feret, is_export)\n",
        "    plot(f'{surface}--porosity', df.w, df.t, df.Porosity, is_export)\n",
        "    plot(f'{surface}--surface', df.w, df.t, df.SAR, is_export)\n",
        "\n",
        "def regress(data, surface='bcc', formula=''):\n",
        "    df = data.query(f'Surface == \"{surface}\"')\n",
        "    try:\n",
        "      model = smf.ols(formula=formula, data=df)\n",
        "      res = model.fit()\n",
        "      print(res.summary())\n",
        "    except Exception as ex:\n",
        "      print(ex)\n",
        "\n",
        "def show_corr(data):\n",
        "    corr = data.corr()\n",
        "    fig, _ = plt.subplots()\n",
        "    corr_columns = ['$\\\\omega$', '$t$', '$\\\\phi_{min}$', '$\\\\phi_{max}$', 'P', 'SAR']\n",
        "    sns.heatmap(corr, xticklabels=corr_columns, yticklabels=corr_columns, cmap=sns.color_palette(\"RdBu\", n_colors=21), center=0, vmin=-1, vmax=1)\n",
        "    plt.show()\n",
        "\n",
        "def p(x, d=2):\n",
        "    return np.power(x,d)\n",
        "\n",
        "def r(x, d=1, eps=0):\n",
        "    return np.reciprocal(x + eps) if d is 1 else np.power(np.reciprocal(x + eps), d)"
      ],
      "execution_count": null,
      "outputs": []
    },
    {
      "cell_type": "code",
      "metadata": {
        "id": "GuEY8Fc27jem",
        "colab_type": "code",
        "cellView": "form",
        "colab": {}
      },
      "source": [
        "#@title Prepare data\n",
        "# Read data into DataFrame\n",
        "data = pd.read_excel('freq_iso_level.xlsx', sheet_name='Sheet1')\n",
        "data.columns = ['Surface', 'w', 't', 'Min_Feret', 'Max_Feret', 'Porosity', 'SAR']\n",
        "# Remove the empty data\n",
        "invalid = data.query('Porosity == 1')\n",
        "data.drop(invalid.index, inplace=True)\n",
        "invalid = data.query('Min_Feret == 0')\n",
        "data.drop(invalid.index, inplace=True)\n",
        "\n",
        "# Remove the missing data\n",
        "# Criterion: the number of records with the same w and surface < 5\n",
        "countData = data.groupby(['Surface', 'w']).count()\n",
        "for k,v in (countData.t < 5).items():\n",
        "    if v and k[0] not in ['tubular_g_c', 'tubular_g_ab']:\n",
        "        data.drop(data.query(f'Surface == \\'{k[0]}\\' and w == {k[1]}').index, inplace=True)\n",
        "# Criterion: the number of records with the same t and surface < 5\n",
        "countData = data.groupby(['Surface', 't']).count()\n",
        "for k,v in (countData.w < 5).items():\n",
        "    if v and k[0] not in ['tubular_g_c', 'tubular_g_ab']:\n",
        "        data.drop(data.query(f'Surface == \\'{k[0]}\\' and t == {k[1]}').index, inplace=True)"
      ],
      "execution_count": null,
      "outputs": []
    },
    {
      "cell_type": "code",
      "metadata": {
        "id": "DN_SJBPmwvKh",
        "colab_type": "code",
        "cellView": "form",
        "colab": {
          "base_uri": "https://localhost:8080/",
          "height": 542
        },
        "outputId": "37b35433-3797-4856-c5e2-623d1bd84ea4"
      },
      "source": [
        "#@title Correlation heat map\n",
        "corr = data.corr()\n",
        "corr_columns = ['$\\\\omega$', '$t$', '$\\\\phi_{min}$', '$\\\\phi_{max}$', 'P', 'SAR']\n",
        "fig = go.Figure(data=go.Heatmap(\n",
        "                   z=corr[::-1],\n",
        "                   x=corr_columns,\n",
        "                   y=corr_columns[::-1],\n",
        "                   colorscale=\"RdBu\",\n",
        "                   hoverongaps = False))\n",
        "fig.update_xaxes(side=\"top\")\n",
        "fig.show()"
      ],
      "execution_count": null,
      "outputs": [
        {
          "output_type": "display_data",
          "data": {
            "text/html": [
              "<html>\n",
              "<head><meta charset=\"utf-8\" /></head>\n",
              "<body>\n",
              "    <div>\n",
              "            <script src=\"https://cdnjs.cloudflare.com/ajax/libs/mathjax/2.7.5/MathJax.js?config=TeX-AMS-MML_SVG\"></script><script type=\"text/javascript\">if (window.MathJax) {MathJax.Hub.Config({SVG: {font: \"STIX-Web\"}});}</script>\n",
              "                <script type=\"text/javascript\">window.PlotlyConfig = {MathJaxConfig: 'local'};</script>\n",
              "        <script src=\"https://cdn.plot.ly/plotly-latest.min.js\"></script>    \n",
              "            <div id=\"e5cf6a99-e42b-4191-8dfd-3bc3b092015f\" class=\"plotly-graph-div\" style=\"height:525px; width:100%;\"></div>\n",
              "            <script type=\"text/javascript\">\n",
              "                \n",
              "                    window.PLOTLYENV=window.PLOTLYENV || {};\n",
              "                    \n",
              "                if (document.getElementById(\"e5cf6a99-e42b-4191-8dfd-3bc3b092015f\")) {\n",
              "                    Plotly.newPlot(\n",
              "                        'e5cf6a99-e42b-4191-8dfd-3bc3b092015f',\n",
              "                        [{\"colorscale\": [[0.0, \"rgb(103,0,31)\"], [0.1, \"rgb(178,24,43)\"], [0.2, \"rgb(214,96,77)\"], [0.3, \"rgb(244,165,130)\"], [0.4, \"rgb(253,219,199)\"], [0.5, \"rgb(247,247,247)\"], [0.6, \"rgb(209,229,240)\"], [0.7, \"rgb(146,197,222)\"], [0.8, \"rgb(67,147,195)\"], [0.9, \"rgb(33,102,172)\"], [1.0, \"rgb(5,48,97)\"]], \"hoverongaps\": false, \"type\": \"heatmap\", \"x\": [\"$\\\\omega$\", \"$t$\", \"$\\\\phi_{min}$\", \"$\\\\phi_{max}$\", \"P\", \"SAR\"], \"y\": [\"SAR\", \"P\", \"$\\\\phi_{max}$\", \"$\\\\phi_{min}$\", \"$t$\", \"$\\\\omega$\"], \"z\": [[0.7866117158717484, -0.07382556850501404, -0.5300037403337713, -0.5462902358109958, -0.07322258497321762, 1.0], [-0.013554029381887343, 0.7833762480249661, 0.14097374730383092, 0.08500703205056771, 1.0, -0.07322258497321762], [-0.6197472447412489, 0.09871423868176456, 0.9131793595754506, 1.0, 0.08500703205056771, -0.5462902358109958], [-0.5921083835880515, 0.15769194247779628, 1.0, 0.9131793595754506, 0.14097374730383092, -0.5300037403337713], [-0.03389865150003034, 1.0, 0.15769194247779628, 0.09871423868176456, 0.7833762480249661, -0.07382556850501404], [1.0, -0.03389865150003034, -0.5921083835880515, -0.6197472447412489, -0.013554029381887343, 0.7866117158717484]]}],\n",
              "                        {\"template\": {\"data\": {\"bar\": [{\"error_x\": {\"color\": \"#2a3f5f\"}, \"error_y\": {\"color\": \"#2a3f5f\"}, \"marker\": {\"line\": {\"color\": \"#E5ECF6\", \"width\": 0.5}}, \"type\": \"bar\"}], \"barpolar\": [{\"marker\": {\"line\": {\"color\": \"#E5ECF6\", \"width\": 0.5}}, \"type\": \"barpolar\"}], \"carpet\": [{\"aaxis\": {\"endlinecolor\": \"#2a3f5f\", \"gridcolor\": \"white\", \"linecolor\": \"white\", \"minorgridcolor\": \"white\", \"startlinecolor\": \"#2a3f5f\"}, \"baxis\": {\"endlinecolor\": \"#2a3f5f\", \"gridcolor\": \"white\", \"linecolor\": \"white\", \"minorgridcolor\": \"white\", \"startlinecolor\": \"#2a3f5f\"}, \"type\": \"carpet\"}], \"choropleth\": [{\"colorbar\": {\"outlinewidth\": 0, \"ticks\": \"\"}, \"type\": \"choropleth\"}], \"contour\": [{\"colorbar\": {\"outlinewidth\": 0, \"ticks\": \"\"}, \"colorscale\": [[0.0, \"#0d0887\"], [0.1111111111111111, \"#46039f\"], [0.2222222222222222, \"#7201a8\"], [0.3333333333333333, \"#9c179e\"], [0.4444444444444444, \"#bd3786\"], [0.5555555555555556, \"#d8576b\"], [0.6666666666666666, \"#ed7953\"], [0.7777777777777778, \"#fb9f3a\"], [0.8888888888888888, \"#fdca26\"], [1.0, \"#f0f921\"]], \"type\": \"contour\"}], \"contourcarpet\": [{\"colorbar\": {\"outlinewidth\": 0, \"ticks\": \"\"}, \"type\": \"contourcarpet\"}], \"heatmap\": [{\"colorbar\": {\"outlinewidth\": 0, \"ticks\": \"\"}, \"colorscale\": [[0.0, \"#0d0887\"], [0.1111111111111111, \"#46039f\"], [0.2222222222222222, \"#7201a8\"], [0.3333333333333333, \"#9c179e\"], [0.4444444444444444, \"#bd3786\"], [0.5555555555555556, \"#d8576b\"], [0.6666666666666666, \"#ed7953\"], [0.7777777777777778, \"#fb9f3a\"], [0.8888888888888888, \"#fdca26\"], [1.0, \"#f0f921\"]], \"type\": \"heatmap\"}], \"heatmapgl\": [{\"colorbar\": {\"outlinewidth\": 0, \"ticks\": \"\"}, \"colorscale\": [[0.0, \"#0d0887\"], [0.1111111111111111, \"#46039f\"], [0.2222222222222222, \"#7201a8\"], [0.3333333333333333, \"#9c179e\"], [0.4444444444444444, \"#bd3786\"], [0.5555555555555556, \"#d8576b\"], [0.6666666666666666, \"#ed7953\"], [0.7777777777777778, \"#fb9f3a\"], [0.8888888888888888, \"#fdca26\"], [1.0, \"#f0f921\"]], \"type\": \"heatmapgl\"}], \"histogram\": [{\"marker\": {\"colorbar\": {\"outlinewidth\": 0, \"ticks\": \"\"}}, \"type\": \"histogram\"}], \"histogram2d\": [{\"colorbar\": {\"outlinewidth\": 0, \"ticks\": \"\"}, \"colorscale\": [[0.0, \"#0d0887\"], [0.1111111111111111, \"#46039f\"], [0.2222222222222222, \"#7201a8\"], [0.3333333333333333, \"#9c179e\"], [0.4444444444444444, \"#bd3786\"], [0.5555555555555556, \"#d8576b\"], [0.6666666666666666, \"#ed7953\"], [0.7777777777777778, \"#fb9f3a\"], [0.8888888888888888, \"#fdca26\"], [1.0, \"#f0f921\"]], \"type\": \"histogram2d\"}], \"histogram2dcontour\": [{\"colorbar\": {\"outlinewidth\": 0, \"ticks\": \"\"}, \"colorscale\": [[0.0, \"#0d0887\"], [0.1111111111111111, \"#46039f\"], [0.2222222222222222, \"#7201a8\"], [0.3333333333333333, \"#9c179e\"], [0.4444444444444444, \"#bd3786\"], [0.5555555555555556, \"#d8576b\"], [0.6666666666666666, \"#ed7953\"], [0.7777777777777778, \"#fb9f3a\"], [0.8888888888888888, \"#fdca26\"], [1.0, \"#f0f921\"]], \"type\": \"histogram2dcontour\"}], \"mesh3d\": [{\"colorbar\": {\"outlinewidth\": 0, \"ticks\": \"\"}, \"type\": \"mesh3d\"}], \"parcoords\": [{\"line\": {\"colorbar\": {\"outlinewidth\": 0, \"ticks\": \"\"}}, \"type\": \"parcoords\"}], \"pie\": [{\"automargin\": true, \"type\": \"pie\"}], \"scatter\": [{\"marker\": {\"colorbar\": {\"outlinewidth\": 0, \"ticks\": \"\"}}, \"type\": \"scatter\"}], \"scatter3d\": [{\"line\": {\"colorbar\": {\"outlinewidth\": 0, \"ticks\": \"\"}}, \"marker\": {\"colorbar\": {\"outlinewidth\": 0, \"ticks\": \"\"}}, \"type\": \"scatter3d\"}], \"scattercarpet\": [{\"marker\": {\"colorbar\": {\"outlinewidth\": 0, \"ticks\": \"\"}}, \"type\": \"scattercarpet\"}], \"scattergeo\": [{\"marker\": {\"colorbar\": {\"outlinewidth\": 0, \"ticks\": \"\"}}, \"type\": \"scattergeo\"}], \"scattergl\": [{\"marker\": {\"colorbar\": {\"outlinewidth\": 0, \"ticks\": \"\"}}, \"type\": \"scattergl\"}], \"scattermapbox\": [{\"marker\": {\"colorbar\": {\"outlinewidth\": 0, \"ticks\": \"\"}}, \"type\": \"scattermapbox\"}], \"scatterpolar\": [{\"marker\": {\"colorbar\": {\"outlinewidth\": 0, \"ticks\": \"\"}}, \"type\": \"scatterpolar\"}], \"scatterpolargl\": [{\"marker\": {\"colorbar\": {\"outlinewidth\": 0, \"ticks\": \"\"}}, \"type\": \"scatterpolargl\"}], \"scatterternary\": [{\"marker\": {\"colorbar\": {\"outlinewidth\": 0, \"ticks\": \"\"}}, \"type\": \"scatterternary\"}], \"surface\": [{\"colorbar\": {\"outlinewidth\": 0, \"ticks\": \"\"}, \"colorscale\": [[0.0, \"#0d0887\"], [0.1111111111111111, \"#46039f\"], [0.2222222222222222, \"#7201a8\"], [0.3333333333333333, \"#9c179e\"], [0.4444444444444444, \"#bd3786\"], [0.5555555555555556, \"#d8576b\"], [0.6666666666666666, \"#ed7953\"], [0.7777777777777778, \"#fb9f3a\"], [0.8888888888888888, \"#fdca26\"], [1.0, \"#f0f921\"]], \"type\": \"surface\"}], \"table\": [{\"cells\": {\"fill\": {\"color\": \"#EBF0F8\"}, \"line\": {\"color\": \"white\"}}, \"header\": {\"fill\": {\"color\": \"#C8D4E3\"}, \"line\": {\"color\": \"white\"}}, \"type\": \"table\"}]}, \"layout\": {\"annotationdefaults\": {\"arrowcolor\": \"#2a3f5f\", \"arrowhead\": 0, \"arrowwidth\": 1}, \"coloraxis\": {\"colorbar\": {\"outlinewidth\": 0, \"ticks\": \"\"}}, \"colorscale\": {\"diverging\": [[0, \"#8e0152\"], [0.1, \"#c51b7d\"], [0.2, \"#de77ae\"], [0.3, \"#f1b6da\"], [0.4, \"#fde0ef\"], [0.5, \"#f7f7f7\"], [0.6, \"#e6f5d0\"], [0.7, \"#b8e186\"], [0.8, \"#7fbc41\"], [0.9, \"#4d9221\"], [1, \"#276419\"]], \"sequential\": [[0.0, \"#0d0887\"], [0.1111111111111111, \"#46039f\"], [0.2222222222222222, \"#7201a8\"], [0.3333333333333333, \"#9c179e\"], [0.4444444444444444, \"#bd3786\"], [0.5555555555555556, \"#d8576b\"], [0.6666666666666666, \"#ed7953\"], [0.7777777777777778, \"#fb9f3a\"], [0.8888888888888888, \"#fdca26\"], [1.0, \"#f0f921\"]], \"sequentialminus\": [[0.0, \"#0d0887\"], [0.1111111111111111, \"#46039f\"], [0.2222222222222222, \"#7201a8\"], [0.3333333333333333, \"#9c179e\"], [0.4444444444444444, \"#bd3786\"], [0.5555555555555556, \"#d8576b\"], [0.6666666666666666, \"#ed7953\"], [0.7777777777777778, \"#fb9f3a\"], [0.8888888888888888, \"#fdca26\"], [1.0, \"#f0f921\"]]}, \"colorway\": [\"#636efa\", \"#EF553B\", \"#00cc96\", \"#ab63fa\", \"#FFA15A\", \"#19d3f3\", \"#FF6692\", \"#B6E880\", \"#FF97FF\", \"#FECB52\"], \"font\": {\"color\": \"#2a3f5f\"}, \"geo\": {\"bgcolor\": \"white\", \"lakecolor\": \"white\", \"landcolor\": \"#E5ECF6\", \"showlakes\": true, \"showland\": true, \"subunitcolor\": \"white\"}, \"hoverlabel\": {\"align\": \"left\"}, \"hovermode\": \"closest\", \"mapbox\": {\"style\": \"light\"}, \"paper_bgcolor\": \"white\", \"plot_bgcolor\": \"#E5ECF6\", \"polar\": {\"angularaxis\": {\"gridcolor\": \"white\", \"linecolor\": \"white\", \"ticks\": \"\"}, \"bgcolor\": \"#E5ECF6\", \"radialaxis\": {\"gridcolor\": \"white\", \"linecolor\": \"white\", \"ticks\": \"\"}}, \"scene\": {\"xaxis\": {\"backgroundcolor\": \"#E5ECF6\", \"gridcolor\": \"white\", \"gridwidth\": 2, \"linecolor\": \"white\", \"showbackground\": true, \"ticks\": \"\", \"zerolinecolor\": \"white\"}, \"yaxis\": {\"backgroundcolor\": \"#E5ECF6\", \"gridcolor\": \"white\", \"gridwidth\": 2, \"linecolor\": \"white\", \"showbackground\": true, \"ticks\": \"\", \"zerolinecolor\": \"white\"}, \"zaxis\": {\"backgroundcolor\": \"#E5ECF6\", \"gridcolor\": \"white\", \"gridwidth\": 2, \"linecolor\": \"white\", \"showbackground\": true, \"ticks\": \"\", \"zerolinecolor\": \"white\"}}, \"shapedefaults\": {\"line\": {\"color\": \"#2a3f5f\"}}, \"ternary\": {\"aaxis\": {\"gridcolor\": \"white\", \"linecolor\": \"white\", \"ticks\": \"\"}, \"baxis\": {\"gridcolor\": \"white\", \"linecolor\": \"white\", \"ticks\": \"\"}, \"bgcolor\": \"#E5ECF6\", \"caxis\": {\"gridcolor\": \"white\", \"linecolor\": \"white\", \"ticks\": \"\"}}, \"title\": {\"x\": 0.05}, \"xaxis\": {\"automargin\": true, \"gridcolor\": \"white\", \"linecolor\": \"white\", \"ticks\": \"\", \"title\": {\"standoff\": 15}, \"zerolinecolor\": \"white\", \"zerolinewidth\": 2}, \"yaxis\": {\"automargin\": true, \"gridcolor\": \"white\", \"linecolor\": \"white\", \"ticks\": \"\", \"title\": {\"standoff\": 15}, \"zerolinecolor\": \"white\", \"zerolinewidth\": 2}}}, \"xaxis\": {\"side\": \"top\"}},\n",
              "                        {\"responsive\": true}\n",
              "                    ).then(function(){\n",
              "                            \n",
              "var gd = document.getElementById('e5cf6a99-e42b-4191-8dfd-3bc3b092015f');\n",
              "var x = new MutationObserver(function (mutations, observer) {{\n",
              "        var display = window.getComputedStyle(gd).display;\n",
              "        if (!display || display === 'none') {{\n",
              "            console.log([gd, 'removed!']);\n",
              "            Plotly.purge(gd);\n",
              "            observer.disconnect();\n",
              "        }}\n",
              "}});\n",
              "\n",
              "// Listen for the removal of the full notebook cells\n",
              "var notebookContainer = gd.closest('#notebook-container');\n",
              "if (notebookContainer) {{\n",
              "    x.observe(notebookContainer, {childList: true});\n",
              "}}\n",
              "\n",
              "// Listen for the clearing of the current output cell\n",
              "var outputEl = gd.closest('.output');\n",
              "if (outputEl) {{\n",
              "    x.observe(outputEl, {childList: true});\n",
              "}}\n",
              "\n",
              "                        })\n",
              "                };\n",
              "                \n",
              "            </script>\n",
              "        </div>\n",
              "</body>\n",
              "</html>"
            ]
          },
          "metadata": {
            "tags": []
          }
        }
      ]
    },
    {
      "cell_type": "code",
      "metadata": {
        "id": "1S1ghtxQy9xA",
        "colab_type": "code",
        "cellView": "form",
        "colab": {
          "base_uri": "https://localhost:8080/",
          "height": 849,
          "referenced_widgets": [
            "25c1cf7d2fa94f958dfd065db7079a51",
            "39cbe54c734e4bd6b74ed1ac56ed3795",
            "32127c0b115f403eaa2b67e3bcbfd727",
            "b502cd672e9f4ab2b5e8d6c6dd9ec5d7",
            "cf961cef150c4463b8918d7c3f8a1fb2",
            "015ae0cb5e0542ac9a81deb906e0dd42",
            "a274d2a00ae6489e85dbebad783d38fd"
          ]
        },
        "outputId": "aba76f1f-83c0-43b2-f713-b04bcdd35683"
      },
      "source": [
        "#@title Plot surface helper function\n",
        "@interact(surface=data.Surface.unique())\n",
        "def plot_surface(surface):\n",
        "  \n",
        "  if surface in ['tubular_g_ab', 'tubular_g_c']:\n",
        "    visualize(data, surface, False)\n",
        "    return\n",
        "\n",
        "  df = data.query(f'Surface == \"{surface}\"')\n",
        "  x = df.w.unique()\n",
        "  y = df.t.unique()\n",
        "  df.set_index(['w', 't'], inplace=True)\n",
        "  df = df[~df.index.duplicated(keep='first')]\n",
        "  \n",
        "  def fill(x):\n",
        "    missing = [i for i, x in enumerate(x) if x is None]\n",
        "    if len(missing) == len(x):\n",
        "      return []\n",
        "    for k,l in enumerate(missing):\n",
        "      if k is not l:\n",
        "        x[l] = x[l-1]\n",
        "    missing = [i for i, x in enumerate(x) if x is None]\n",
        "    if len(missing) > 0:\n",
        "      f = x[missing[-1]+1]\n",
        "      for k in missing:\n",
        "        x[k] = f\n",
        "    return x\n",
        "\n",
        "  def get_surface(column_name, colorscale=None):\n",
        "    z = []\n",
        "    for i in y:\n",
        "      _z = []\n",
        "      for j in x:\n",
        "        try:\n",
        "          _z.append(df.loc[(j,i), column_name])\n",
        "        except:\n",
        "          _z.append(None)\n",
        "      _z = fill(_z)\n",
        "      if len(_z) > 0:\n",
        "        z.append(_z)\n",
        "    z = np.array(z, dtype='float32')\n",
        "    return go.Surface(\n",
        "      z=z, x=x, y=y,\n",
        "      colorscale=colorscale,\n",
        "      showscale=False\n",
        "    )\n",
        "  \n",
        "  fig = make_subplots(\n",
        "    rows=2, cols=2,\n",
        "    horizontal_spacing=.1, vertical_spacing=.1,\n",
        "    specs=[[{'type':'surface'},{'type':'surface'}], [{'type':'surface'},{'type':'surface'}]],\n",
        "    subplot_titles=(\"Min_Feret\", \"Max_Feret\", \"Porosity\", \"SAR\")\n",
        "  )\n",
        "  fig.add_trace(get_surface('Min_Feret'), row=1, col=1)\n",
        "  fig.add_trace(get_surface('Max_Feret'), row=1, col=2)\n",
        "  fig.add_trace(get_surface('Porosity'), row=2, col=1)\n",
        "  fig.add_trace(get_surface('SAR'), row=2, col=2)\n",
        "\n",
        "  \n",
        "  #fig = go.Figure(data=[get_surface('SAR')])\n",
        "  fig.update_layout(title=surface,\n",
        "    width=800, height=800,\n",
        "    scene1=dict(aspectmode='cube', camera=dict(eye={'x':1.5, 'y':-1.5, 'z':1.5})),\n",
        "    scene2=dict(aspectmode='cube', camera=dict(eye={'x':1.5, 'y':-1.5, 'z':1.5})),\n",
        "    scene3=dict(aspectmode='cube', camera=dict(eye={'x':1.5, 'y':-1.5, 'z':1.5})),\n",
        "    scene4=dict(aspectmode='cube', camera=dict(eye={'x':-1.5, 'y':1.5, 'z':1.5})),\n",
        "    #margin=dict(l=5, r=0, b=5, t=0)\n",
        "  )\n",
        "  fig.show()"
      ],
      "execution_count": null,
      "outputs": [
        {
          "output_type": "display_data",
          "data": {
            "application/vnd.jupyter.widget-view+json": {
              "model_id": "25c1cf7d2fa94f958dfd065db7079a51",
              "version_minor": 0,
              "version_major": 2
            },
            "text/plain": [
              "interactive(children=(Dropdown(description='surface', options=('bcc', 'double-d', 'double-gyroid', 'double-p',…"
            ]
          },
          "metadata": {
            "tags": []
          }
        }
      ]
    },
    {
      "cell_type": "code",
      "metadata": {
        "id": "_E5vi_Rews9U",
        "colab_type": "code",
        "cellView": "form",
        "colab": {
          "base_uri": "https://localhost:8080/",
          "height": 115,
          "referenced_widgets": [
            "9f10be02b68c456c9a72d7a3a94f21bf",
            "7ddc9bb69287403091e9c0f40bb47590",
            "21d5ecbf744448249c5defb1b9efaffc",
            "afc9b0f4d47d4f429ca8818359e08b5a",
            "a2d070e67db14a6d933ef4a549eb5b53",
            "37ac77d271fd4df29826f5991b6967ac",
            "6f5f6dbbb8f2477bb15434edd931c8f2",
            "028b2db26c96410a8b740a6ac893d6b3",
            "79dac3a5caff4e9ba3c4146ac57cdeab",
            "15d0148682964ed4aef254abf17beb10"
          ]
        },
        "outputId": "b07fe1a8-10a2-492e-8d7d-b0ca6f4f1c1d"
      },
      "source": [
        "#@title Regression analysis\n",
        "#@markdown **Symbol**: w, t, Min_Feret, Max_Feret, Porosity, SAR<br>\n",
        "#@markdown **Syntax**: [Statsmodels R-style](https://www.statsmodels.org/devel/example_formulas.html)<br>\n",
        "#@markdown **Example:**\n",
        "#@markdown\n",
        "#@markdown * `Min_Feret ~ np.reciprocal(w)*t - 1` \n",
        "#@markdown * `Max_Feret ~ r(w)*t - 1` \n",
        "#@markdown * `Porosity ~ w*p(t)`\n",
        "#@markdown * `SAR ~ w*np.power(t,2)`\n",
        "#@markdown\n",
        "#@markdown PS. `r(x) := np.reciprocal(x)` and `p(x, d=2) := np.power(x,d)`\n",
        "interact(regress, data=fixed(data), surface=data.Surface.unique(), formula='')"
      ],
      "execution_count": null,
      "outputs": [
        {
          "output_type": "display_data",
          "data": {
            "application/vnd.jupyter.widget-view+json": {
              "model_id": "9f10be02b68c456c9a72d7a3a94f21bf",
              "version_minor": 0,
              "version_major": 2
            },
            "text/plain": [
              "interactive(children=(Dropdown(description='surface', options=('bcc', 'double-d', 'double-gyroid', 'double-p',…"
            ]
          },
          "metadata": {
            "tags": []
          }
        },
        {
          "output_type": "execute_result",
          "data": {
            "text/plain": [
              "<function __main__.regress>"
            ]
          },
          "metadata": {
            "tags": []
          },
          "execution_count": 260
        }
      ]
    }
  ]
}